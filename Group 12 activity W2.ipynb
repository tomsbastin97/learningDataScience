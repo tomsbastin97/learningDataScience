{
 "cells": [
  {
   "cell_type": "markdown",
   "metadata": {},
   "source": [
    "## 1. Complete the following code to find the area of an equilateral triangle. Output should be as displayed"
   ]
  },
  {
   "cell_type": "code",
   "execution_count": 1,
   "metadata": {},
   "outputs": [
    {
     "name": "stdout",
     "output_type": "stream",
     "text": [
      "Area =  15.588457268119894\n"
     ]
    }
   ],
   "source": [
    "import math\n",
    "side = float(input(\"Enter the side of the equilateral triangle: \"))\n",
    "area = ((math.sqrt(3))/4)*pow(side,2)\n",
    "print('Area = ', area)"
   ]
  },
  {
   "cell_type": "markdown",
   "metadata": {},
   "source": [
    "## 2. Write a program to count the number of each characters in a string"
   ]
  },
  {
   "cell_type": "code",
   "execution_count": 30,
   "metadata": {},
   "outputs": [
    {
     "name": "stdout",
     "output_type": "stream",
     "text": [
      "You entered: catastrophe\n",
      "Character count of catastrophe:\n",
      "r :  1\n",
      "p :  1\n",
      "e :  1\n",
      "s :  1\n",
      "h :  1\n",
      "o :  1\n",
      "c :  1\n",
      "a :  2\n",
      "t :  2\n"
     ]
    }
   ],
   "source": [
    "word = input('Enter a string:')\n",
    "print(f'You entered: {word}\\nCharacter count of {word}:')\n",
    "for i in set(word):\n",
    "    print(i ,': ', word.count(i))"
   ]
  },
  {
   "cell_type": "markdown",
   "metadata": {},
   "source": [
    "## 3. Write a program to find the area and perimeter of a rectangle using functions"
   ]
  },
  {
   "cell_type": "code",
   "execution_count": 31,
   "metadata": {},
   "outputs": [
    {
     "name": "stdout",
     "output_type": "stream",
     "text": [
      "Area of the rectangle is 120 meter-square\n",
      "Perimeter of the rectangle is 44 meters\n"
     ]
    }
   ],
   "source": [
    "def area(length,breadth):\n",
    "    print('Area of the rectangle is', length*breadth, 'meter-square')\n",
    "def perimeter(length,breadth):\n",
    "    per = 2*(length+breadth)\n",
    "    print('Perimeter of the rectangle is', per, 'meters')\n",
    "length = int(input(\"Enter length of the rectangle in meters\"))\n",
    "breadth = int(input(\"Enter breadth of the rectangle in meters\"))\n",
    "area(length,breadth)\n",
    "perimeter(length,breadth)"
   ]
  },
  {
   "cell_type": "markdown",
   "metadata": {},
   "source": [
    "## 4. Write a program to print the fibonacci series till a specified number"
   ]
  },
  {
   "cell_type": "code",
   "execution_count": 95,
   "metadata": {},
   "outputs": [
    {
     "name": "stdout",
     "output_type": "stream",
     "text": [
      "[0, 1, 1, 2, 3, 5, 8, 13]\n"
     ]
    }
   ],
   "source": [
    "def fib(n):\n",
    "    i = 1\n",
    "    j = 1\n",
    "    ourList = [0,1,1]\n",
    "    if n < 0:\n",
    "        return('Not allowed, Use positive integers')\n",
    "    elif n == 0:\n",
    "        return [0]\n",
    "    elif n == 1:\n",
    "        return [0,1]\n",
    "    elif n == 2:\n",
    "        return [0,1,1]\n",
    "    else:\n",
    "        for y in range(3,n+1):\n",
    "            x = i+j\n",
    "            ourList.append(x)\n",
    "            i=j\n",
    "            j=x\n",
    "        print(ourList)\n",
    "\n",
    "\n",
    "series = int(input('Enter your desired Fibonacci Series range: '))\n",
    "fib(series)"
   ]
  },
  {
   "cell_type": "markdown",
   "metadata": {},
   "source": [
    "## 5. Complete the following code to find the minimum of 3 number using conditional statements. Output should be as displayed"
   ]
  },
  {
   "cell_type": "code",
   "execution_count": 65,
   "metadata": {},
   "outputs": [
    {
     "name": "stdout",
     "output_type": "stream",
     "text": [
      "First number : 4\n",
      "Second number : 5\n",
      "Third number : 1\n",
      "1  is smallest\n"
     ]
    }
   ],
   "source": [
    "a,b,c = input(\"Enter three numbers followed by  : \").split()\n",
    "\n",
    "print(\"First number :\",a)\n",
    "print(\"Second number :\",b)\n",
    "print(\"Third number :\",c)\n",
    "if a == b and b == c:\n",
    "    print(\"Entered numbers are equal!!!\")\n",
    "elif a<b and a<c:\n",
    "    print(a,\" is smallest\")\n",
    "elif b<a and b<c:\n",
    "    print(b,\" is smallest\")\n",
    "else:\n",
    "    print(c,\" is smallest\")"
   ]
  },
  {
   "cell_type": "markdown",
   "metadata": {},
   "source": [
    "## 6. Write a program to print star pyramind. The number of rows should be taken as input from the user"
   ]
  },
  {
   "cell_type": "code",
   "execution_count": 25,
   "metadata": {},
   "outputs": [
    {
     "name": "stdout",
     "output_type": "stream",
     "text": [
      "       *\n",
      "      * *\n",
      "     * * *\n",
      "    * * * *\n",
      "   * * * * *\n",
      "  * * * * * *\n",
      " * * * * * * *\n"
     ]
    }
   ],
   "source": [
    "rows = int(input('Enter the number of rows for the pyramid: '))-1\n",
    "columns = 1\n",
    "print(rows*' ' + columns*' *')\n",
    "columns += 1\n",
    "for i in range(rows):\n",
    "    for j in range(columns):\n",
    "        pyramid = ((rows-j)*' ')+(columns*' *')\n",
    "    columns+=1\n",
    "    print(pyramid)"
   ]
  },
  {
   "cell_type": "markdown",
   "metadata": {},
   "source": [
    "## 7. Complete the following code to convert hour into seconds. Output should be as displayed"
   ]
  },
  {
   "cell_type": "code",
   "execution_count": 4,
   "metadata": {},
   "outputs": [
    {
     "name": "stdout",
     "output_type": "stream",
     "text": [
      "5  Hour is equal to 18000  Seconds\n"
     ]
    }
   ],
   "source": [
    "def to_seconds(t):\n",
    "    t=int(t)*60*60\n",
    "    return t\n",
    "time_in_hours = input('Enter time in Hours: ')\n",
    "print(time_in_hours ,\" Hour is equal to\" ,to_seconds(time_in_hours) ,\" Seconds\")"
   ]
  },
  {
   "cell_type": "markdown",
   "metadata": {},
   "source": [
    "## 8. Write a program to print multiplication table as below"
   ]
  },
  {
   "cell_type": "code",
   "execution_count": 28,
   "metadata": {},
   "outputs": [
    {
     "name": "stdout",
     "output_type": "stream",
     "text": [
      "Multiplication table of 227\n",
      "1 x 227 = 227\n",
      "2 x 227 = 454\n",
      "3 x 227 = 681\n",
      "4 x 227 = 908\n",
      "5 x 227 = 1135\n",
      "6 x 227 = 1362\n",
      "7 x 227 = 1589\n",
      "8 x 227 = 1816\n",
      "9 x 227 = 2043\n",
      "10 x 227 = 2270\n"
     ]
    }
   ],
   "source": [
    "table = int(input('Enter the number of the multiplication table you need: '))\n",
    "print('Multiplication table of', table)\n",
    "for i in range(1,11):\n",
    "    print(f'{i} x {table} = {i*table}')\n"
   ]
  },
  {
   "cell_type": "markdown",
   "metadata": {},
   "source": [
    "## 9. Write a program to take your 5 favorite food as list and print each as 'I like Biriyani'"
   ]
  },
  {
   "cell_type": "code",
   "execution_count": 57,
   "metadata": {},
   "outputs": [
    {
     "name": "stdout",
     "output_type": "stream",
     "text": [
      "Enter the name of five of your favourite food items:\n",
      "1 Cheese Cake\n",
      "2 Biriyani\n",
      "3 Steak\n",
      "4 Ice Cream\n",
      "5 Salad\n",
      "I like Cheese Cake\n",
      "I like Biriyani\n",
      "I like Steak\n",
      "I like Ice Cream\n",
      "I like Salad\n"
     ]
    }
   ],
   "source": [
    "food = []\n",
    "print('Enter the name of five of your favourite food items:')\n",
    "for i in range(1,6):\n",
    "    x = input(f'{i}.')\n",
    "    print(i,x)\n",
    "    food.append(x)\n",
    "\n",
    "for j in food:\n",
    "    print('I like',j)"
   ]
  }
 ],
 "metadata": {
  "interpreter": {
   "hash": "916dbcbb3f70747c44a77c7bcd40155683ae19c65e1c03b4aa3499c5328201f1"
  },
  "kernelspec": {
   "display_name": "Python 3.9.5 64-bit",
   "name": "python3"
  },
  "language_info": {
   "codemirror_mode": {
    "name": "ipython",
    "version": 3
   },
   "file_extension": ".py",
   "mimetype": "text/x-python",
   "name": "python",
   "nbconvert_exporter": "python",
   "pygments_lexer": "ipython3",
   "version": "3.9.5"
  }
 },
 "nbformat": 4,
 "nbformat_minor": 4
}
