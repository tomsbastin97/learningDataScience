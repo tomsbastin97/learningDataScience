{
  "nbformat": 4,
  "nbformat_minor": 0,
  "metadata": {
    "colab": {
      "name": "Untitled0.ipynb",
      "provenance": [],
      "collapsed_sections": []
    },
    "kernelspec": {
      "name": "python3",
      "display_name": "Python 3"
    },
    "language_info": {
      "name": "python"
    }
  },
  "cells": [
    {
      "cell_type": "code",
      "execution_count": null,
      "metadata": {
        "id": "Qcm3e4M2aZcb"
      },
      "outputs": [],
      "source": [
        "import pandas as pd\n",
        "import numpy as np\n",
        "import matplotlib.pyplot as plt\n",
        "import seaborn as sns\n",
        "import itertools\n",
        "import altair as alt"
      ]
    },
    {
      "cell_type": "code",
      "source": [
        "from google.colab import drive\n",
        "drive.mount('/content/drive')"
      ],
      "metadata": {
        "colab": {
          "base_uri": "https://localhost:8080/"
        },
        "id": "PD1-gQu72OcC",
        "outputId": "37c5fa33-032e-4d57-b396-357db0ba2788"
      },
      "execution_count": null,
      "outputs": [
        {
          "output_type": "stream",
          "name": "stdout",
          "text": [
            "Drive already mounted at /content/drive; to attempt to forcibly remount, call drive.mount(\"/content/drive\", force_remount=True).\n"
          ]
        }
      ]
    },
    {
      "cell_type": "code",
      "source": [
        "df = pd.read_csv('webmd.csv')\n",
        "df"
      ],
      "metadata": {
        "colab": {
          "base_uri": "https://localhost:8080/",
          "height": 424
        },
        "id": "RDZv1O1626Ir",
        "outputId": "db02b204-a84a-4806-af8c-639507aec5dc"
      },
      "execution_count": null,
      "outputs": [
        {
          "output_type": "execute_result",
          "data": {
            "text/plain": [
              "               Age      Condition        Date                          Drug  \\\n",
              "0       75 or over    Stuffy Nose   9/21/2014                  25dph-7.5peh   \n",
              "1            25-34  Cold Symptoms   1/13/2011                  25dph-7.5peh   \n",
              "2            65-74          Other   7/16/2012  warfarin (bulk) 100 % powder   \n",
              "3       75 or over          Other   9/23/2010  warfarin (bulk) 100 % powder   \n",
              "4            35-44          Other    1/6/2009  warfarin (bulk) 100 % powder   \n",
              "...            ...            ...         ...                           ...   \n",
              "362801       55-64   Stop Smoking  11/14/2008                       chantix   \n",
              "362802                      Other  11/14/2008                       chantix   \n",
              "362803       25-34   Stop Smoking  11/13/2008                       chantix   \n",
              "362804       55-64   Stop Smoking  11/13/2008                       chantix   \n",
              "362805       45-54   Stop Smoking  11/12/2008                       chantix   \n",
              "\n",
              "        DrugId  EaseofUse  Effectiveness  \\\n",
              "0       146724          5              5   \n",
              "1       146724          5              5   \n",
              "2       144731          2              3   \n",
              "3       144731          2              2   \n",
              "4       144731          1              1   \n",
              "...        ...        ...            ...   \n",
              "362801  144470          5              5   \n",
              "362802  144470          2              3   \n",
              "362803  144470          2              4   \n",
              "362804  144470          5              5   \n",
              "362805  144470          4              5   \n",
              "\n",
              "                                                  Reviews  Satisfaction  \\\n",
              "0       I'm a retired physician and of all the meds I ...             5   \n",
              "1       cleared me right up even with my throat hurtin...             5   \n",
              "2       why did my PTINR go from a normal of 2.5 to ov...             3   \n",
              "3                            FALLING AND DON'T REALISE IT             1   \n",
              "4       My grandfather was prescribed this medication ...             1   \n",
              "...                                                   ...           ...   \n",
              "362801  I took the whole 12 weeks.I could have stopped...             5   \n",
              "362802  My dad strated taking Chantix about 1 month ag...             1   \n",
              "362803  As long as I was on chantix, I didn't smoke.  ...             2   \n",
              "362804  Started this medication Oct 5th 2008. Haven't ...             5   \n",
              "362805  One year ago, I tried Chantix and had to stop ...             5   \n",
              "\n",
              "           Sex                                              Sides  UsefulCount  \n",
              "0         Male  Drowsiness,  dizziness ,  dry mouth /nose/thro...            0  \n",
              "1       Female  Drowsiness,  dizziness ,  dry mouth /nose/thro...            1  \n",
              "2       Female                                                               0  \n",
              "3       Female                                                               0  \n",
              "4         Male                                                               1  \n",
              "...        ...                                                ...          ...  \n",
              "362801  Female  Nausea ,  headache ,  vomiting , drowsiness, g...            2  \n",
              "362802          Nausea ,  headache ,  vomiting , drowsiness, g...           16  \n",
              "362803  Female  Nausea ,  headache ,  vomiting , drowsiness, g...            3  \n",
              "362804    Male  Nausea ,  headache ,  vomiting , drowsiness, g...            1  \n",
              "362805  Female  Nausea ,  headache ,  vomiting , drowsiness, g...            3  \n",
              "\n",
              "[362806 rows x 12 columns]"
            ],
            "text/html": [
              "\n",
              "  <div id=\"df-4bd9aa7b-7aed-4cc7-99da-9975ef1f88b3\">\n",
              "    <div class=\"colab-df-container\">\n",
              "      <div>\n",
              "<style scoped>\n",
              "    .dataframe tbody tr th:only-of-type {\n",
              "        vertical-align: middle;\n",
              "    }\n",
              "\n",
              "    .dataframe tbody tr th {\n",
              "        vertical-align: top;\n",
              "    }\n",
              "\n",
              "    .dataframe thead th {\n",
              "        text-align: right;\n",
              "    }\n",
              "</style>\n",
              "<table border=\"1\" class=\"dataframe\">\n",
              "  <thead>\n",
              "    <tr style=\"text-align: right;\">\n",
              "      <th></th>\n",
              "      <th>Age</th>\n",
              "      <th>Condition</th>\n",
              "      <th>Date</th>\n",
              "      <th>Drug</th>\n",
              "      <th>DrugId</th>\n",
              "      <th>EaseofUse</th>\n",
              "      <th>Effectiveness</th>\n",
              "      <th>Reviews</th>\n",
              "      <th>Satisfaction</th>\n",
              "      <th>Sex</th>\n",
              "      <th>Sides</th>\n",
              "      <th>UsefulCount</th>\n",
              "    </tr>\n",
              "  </thead>\n",
              "  <tbody>\n",
              "    <tr>\n",
              "      <th>0</th>\n",
              "      <td>75 or over</td>\n",
              "      <td>Stuffy Nose</td>\n",
              "      <td>9/21/2014</td>\n",
              "      <td>25dph-7.5peh</td>\n",
              "      <td>146724</td>\n",
              "      <td>5</td>\n",
              "      <td>5</td>\n",
              "      <td>I'm a retired physician and of all the meds I ...</td>\n",
              "      <td>5</td>\n",
              "      <td>Male</td>\n",
              "      <td>Drowsiness,  dizziness ,  dry mouth /nose/thro...</td>\n",
              "      <td>0</td>\n",
              "    </tr>\n",
              "    <tr>\n",
              "      <th>1</th>\n",
              "      <td>25-34</td>\n",
              "      <td>Cold Symptoms</td>\n",
              "      <td>1/13/2011</td>\n",
              "      <td>25dph-7.5peh</td>\n",
              "      <td>146724</td>\n",
              "      <td>5</td>\n",
              "      <td>5</td>\n",
              "      <td>cleared me right up even with my throat hurtin...</td>\n",
              "      <td>5</td>\n",
              "      <td>Female</td>\n",
              "      <td>Drowsiness,  dizziness ,  dry mouth /nose/thro...</td>\n",
              "      <td>1</td>\n",
              "    </tr>\n",
              "    <tr>\n",
              "      <th>2</th>\n",
              "      <td>65-74</td>\n",
              "      <td>Other</td>\n",
              "      <td>7/16/2012</td>\n",
              "      <td>warfarin (bulk) 100 % powder</td>\n",
              "      <td>144731</td>\n",
              "      <td>2</td>\n",
              "      <td>3</td>\n",
              "      <td>why did my PTINR go from a normal of 2.5 to ov...</td>\n",
              "      <td>3</td>\n",
              "      <td>Female</td>\n",
              "      <td></td>\n",
              "      <td>0</td>\n",
              "    </tr>\n",
              "    <tr>\n",
              "      <th>3</th>\n",
              "      <td>75 or over</td>\n",
              "      <td>Other</td>\n",
              "      <td>9/23/2010</td>\n",
              "      <td>warfarin (bulk) 100 % powder</td>\n",
              "      <td>144731</td>\n",
              "      <td>2</td>\n",
              "      <td>2</td>\n",
              "      <td>FALLING AND DON'T REALISE IT</td>\n",
              "      <td>1</td>\n",
              "      <td>Female</td>\n",
              "      <td></td>\n",
              "      <td>0</td>\n",
              "    </tr>\n",
              "    <tr>\n",
              "      <th>4</th>\n",
              "      <td>35-44</td>\n",
              "      <td>Other</td>\n",
              "      <td>1/6/2009</td>\n",
              "      <td>warfarin (bulk) 100 % powder</td>\n",
              "      <td>144731</td>\n",
              "      <td>1</td>\n",
              "      <td>1</td>\n",
              "      <td>My grandfather was prescribed this medication ...</td>\n",
              "      <td>1</td>\n",
              "      <td>Male</td>\n",
              "      <td></td>\n",
              "      <td>1</td>\n",
              "    </tr>\n",
              "    <tr>\n",
              "      <th>...</th>\n",
              "      <td>...</td>\n",
              "      <td>...</td>\n",
              "      <td>...</td>\n",
              "      <td>...</td>\n",
              "      <td>...</td>\n",
              "      <td>...</td>\n",
              "      <td>...</td>\n",
              "      <td>...</td>\n",
              "      <td>...</td>\n",
              "      <td>...</td>\n",
              "      <td>...</td>\n",
              "      <td>...</td>\n",
              "    </tr>\n",
              "    <tr>\n",
              "      <th>362801</th>\n",
              "      <td>55-64</td>\n",
              "      <td>Stop Smoking</td>\n",
              "      <td>11/14/2008</td>\n",
              "      <td>chantix</td>\n",
              "      <td>144470</td>\n",
              "      <td>5</td>\n",
              "      <td>5</td>\n",
              "      <td>I took the whole 12 weeks.I could have stopped...</td>\n",
              "      <td>5</td>\n",
              "      <td>Female</td>\n",
              "      <td>Nausea ,  headache ,  vomiting , drowsiness, g...</td>\n",
              "      <td>2</td>\n",
              "    </tr>\n",
              "    <tr>\n",
              "      <th>362802</th>\n",
              "      <td></td>\n",
              "      <td>Other</td>\n",
              "      <td>11/14/2008</td>\n",
              "      <td>chantix</td>\n",
              "      <td>144470</td>\n",
              "      <td>2</td>\n",
              "      <td>3</td>\n",
              "      <td>My dad strated taking Chantix about 1 month ag...</td>\n",
              "      <td>1</td>\n",
              "      <td></td>\n",
              "      <td>Nausea ,  headache ,  vomiting , drowsiness, g...</td>\n",
              "      <td>16</td>\n",
              "    </tr>\n",
              "    <tr>\n",
              "      <th>362803</th>\n",
              "      <td>25-34</td>\n",
              "      <td>Stop Smoking</td>\n",
              "      <td>11/13/2008</td>\n",
              "      <td>chantix</td>\n",
              "      <td>144470</td>\n",
              "      <td>2</td>\n",
              "      <td>4</td>\n",
              "      <td>As long as I was on chantix, I didn't smoke.  ...</td>\n",
              "      <td>2</td>\n",
              "      <td>Female</td>\n",
              "      <td>Nausea ,  headache ,  vomiting , drowsiness, g...</td>\n",
              "      <td>3</td>\n",
              "    </tr>\n",
              "    <tr>\n",
              "      <th>362804</th>\n",
              "      <td>55-64</td>\n",
              "      <td>Stop Smoking</td>\n",
              "      <td>11/13/2008</td>\n",
              "      <td>chantix</td>\n",
              "      <td>144470</td>\n",
              "      <td>5</td>\n",
              "      <td>5</td>\n",
              "      <td>Started this medication Oct 5th 2008. Haven't ...</td>\n",
              "      <td>5</td>\n",
              "      <td>Male</td>\n",
              "      <td>Nausea ,  headache ,  vomiting , drowsiness, g...</td>\n",
              "      <td>1</td>\n",
              "    </tr>\n",
              "    <tr>\n",
              "      <th>362805</th>\n",
              "      <td>45-54</td>\n",
              "      <td>Stop Smoking</td>\n",
              "      <td>11/12/2008</td>\n",
              "      <td>chantix</td>\n",
              "      <td>144470</td>\n",
              "      <td>4</td>\n",
              "      <td>5</td>\n",
              "      <td>One year ago, I tried Chantix and had to stop ...</td>\n",
              "      <td>5</td>\n",
              "      <td>Female</td>\n",
              "      <td>Nausea ,  headache ,  vomiting , drowsiness, g...</td>\n",
              "      <td>3</td>\n",
              "    </tr>\n",
              "  </tbody>\n",
              "</table>\n",
              "<p>362806 rows × 12 columns</p>\n",
              "</div>\n",
              "      <button class=\"colab-df-convert\" onclick=\"convertToInteractive('df-4bd9aa7b-7aed-4cc7-99da-9975ef1f88b3')\"\n",
              "              title=\"Convert this dataframe to an interactive table.\"\n",
              "              style=\"display:none;\">\n",
              "        \n",
              "  <svg xmlns=\"http://www.w3.org/2000/svg\" height=\"24px\"viewBox=\"0 0 24 24\"\n",
              "       width=\"24px\">\n",
              "    <path d=\"M0 0h24v24H0V0z\" fill=\"none\"/>\n",
              "    <path d=\"M18.56 5.44l.94 2.06.94-2.06 2.06-.94-2.06-.94-.94-2.06-.94 2.06-2.06.94zm-11 1L8.5 8.5l.94-2.06 2.06-.94-2.06-.94L8.5 2.5l-.94 2.06-2.06.94zm10 10l.94 2.06.94-2.06 2.06-.94-2.06-.94-.94-2.06-.94 2.06-2.06.94z\"/><path d=\"M17.41 7.96l-1.37-1.37c-.4-.4-.92-.59-1.43-.59-.52 0-1.04.2-1.43.59L10.3 9.45l-7.72 7.72c-.78.78-.78 2.05 0 2.83L4 21.41c.39.39.9.59 1.41.59.51 0 1.02-.2 1.41-.59l7.78-7.78 2.81-2.81c.8-.78.8-2.07 0-2.86zM5.41 20L4 18.59l7.72-7.72 1.47 1.35L5.41 20z\"/>\n",
              "  </svg>\n",
              "      </button>\n",
              "      \n",
              "  <style>\n",
              "    .colab-df-container {\n",
              "      display:flex;\n",
              "      flex-wrap:wrap;\n",
              "      gap: 12px;\n",
              "    }\n",
              "\n",
              "    .colab-df-convert {\n",
              "      background-color: #E8F0FE;\n",
              "      border: none;\n",
              "      border-radius: 50%;\n",
              "      cursor: pointer;\n",
              "      display: none;\n",
              "      fill: #1967D2;\n",
              "      height: 32px;\n",
              "      padding: 0 0 0 0;\n",
              "      width: 32px;\n",
              "    }\n",
              "\n",
              "    .colab-df-convert:hover {\n",
              "      background-color: #E2EBFA;\n",
              "      box-shadow: 0px 1px 2px rgba(60, 64, 67, 0.3), 0px 1px 3px 1px rgba(60, 64, 67, 0.15);\n",
              "      fill: #174EA6;\n",
              "    }\n",
              "\n",
              "    [theme=dark] .colab-df-convert {\n",
              "      background-color: #3B4455;\n",
              "      fill: #D2E3FC;\n",
              "    }\n",
              "\n",
              "    [theme=dark] .colab-df-convert:hover {\n",
              "      background-color: #434B5C;\n",
              "      box-shadow: 0px 1px 3px 1px rgba(0, 0, 0, 0.15);\n",
              "      filter: drop-shadow(0px 1px 2px rgba(0, 0, 0, 0.3));\n",
              "      fill: #FFFFFF;\n",
              "    }\n",
              "  </style>\n",
              "\n",
              "      <script>\n",
              "        const buttonEl =\n",
              "          document.querySelector('#df-4bd9aa7b-7aed-4cc7-99da-9975ef1f88b3 button.colab-df-convert');\n",
              "        buttonEl.style.display =\n",
              "          google.colab.kernel.accessAllowed ? 'block' : 'none';\n",
              "\n",
              "        async function convertToInteractive(key) {\n",
              "          const element = document.querySelector('#df-4bd9aa7b-7aed-4cc7-99da-9975ef1f88b3');\n",
              "          const dataTable =\n",
              "            await google.colab.kernel.invokeFunction('convertToInteractive',\n",
              "                                                     [key], {});\n",
              "          if (!dataTable) return;\n",
              "\n",
              "          const docLinkHtml = 'Like what you see? Visit the ' +\n",
              "            '<a target=\"_blank\" href=https://colab.research.google.com/notebooks/data_table.ipynb>data table notebook</a>'\n",
              "            + ' to learn more about interactive tables.';\n",
              "          element.innerHTML = '';\n",
              "          dataTable['output_type'] = 'display_data';\n",
              "          await google.colab.output.renderOutput(dataTable, element);\n",
              "          const docLink = document.createElement('div');\n",
              "          docLink.innerHTML = docLinkHtml;\n",
              "          element.appendChild(docLink);\n",
              "        }\n",
              "      </script>\n",
              "    </div>\n",
              "  </div>\n",
              "  "
            ]
          },
          "metadata": {},
          "execution_count": 4
        }
      ]
    },
    {
      "cell_type": "code",
      "source": [
        "df.isna().sum()"
      ],
      "metadata": {
        "colab": {
          "base_uri": "https://localhost:8080/"
        },
        "id": "xLuMioTH3rDu",
        "outputId": "432314b3-494d-49ec-a4c6-566e5df518c0"
      },
      "execution_count": null,
      "outputs": [
        {
          "output_type": "execute_result",
          "data": {
            "text/plain": [
              "Age               0\n",
              "Condition         0\n",
              "Date              0\n",
              "Drug              0\n",
              "DrugId            0\n",
              "EaseofUse         0\n",
              "Effectiveness     0\n",
              "Reviews          37\n",
              "Satisfaction      0\n",
              "Sex               0\n",
              "Sides             0\n",
              "UsefulCount       0\n",
              "dtype: int64"
            ]
          },
          "metadata": {},
          "execution_count": 5
        }
      ]
    },
    {
      "cell_type": "code",
      "source": [
        "df.drop(['Date','UsefulCount','EaseofUse'], axis=1, inplace = True)"
      ],
      "metadata": {
        "id": "SWJbxj1j4EJf"
      },
      "execution_count": null,
      "outputs": []
    },
    {
      "cell_type": "code",
      "source": [
        "df['Satisfaction'].value_counts()"
      ],
      "metadata": {
        "colab": {
          "base_uri": "https://localhost:8080/"
        },
        "id": "L0Ylqo1x4Fh-",
        "outputId": "dbf694c0-68c0-4cd7-88f8-effce215ae7b"
      },
      "execution_count": null,
      "outputs": [
        {
          "output_type": "execute_result",
          "data": {
            "text/plain": [
              "5     111550\n",
              "1     100901\n",
              "4      63158\n",
              "3      51852\n",
              "2      35342\n",
              "6          2\n",
              "10         1\n",
              "Name: Satisfaction, dtype: int64"
            ]
          },
          "metadata": {},
          "execution_count": 7
        }
      ]
    },
    {
      "cell_type": "code",
      "source": [
        "df['Sex'].value_counts()"
      ],
      "metadata": {
        "colab": {
          "base_uri": "https://localhost:8080/"
        },
        "id": "P9jJ74SC4Jzy",
        "outputId": "89699041-c64a-4378-8671-1cf9559764de"
      },
      "execution_count": null,
      "outputs": [
        {
          "output_type": "execute_result",
          "data": {
            "text/plain": [
              "Female    238226\n",
              "Male       98043\n",
              "           26537\n",
              "Name: Sex, dtype: int64"
            ]
          },
          "metadata": {},
          "execution_count": 8
        }
      ]
    },
    {
      "cell_type": "code",
      "source": [
        "df['Age'].value_counts()"
      ],
      "metadata": {
        "colab": {
          "base_uri": "https://localhost:8080/"
        },
        "id": "0n5MjtPe4OLy",
        "outputId": "49ee1653-b578-4917-c44e-31ff5307c02f"
      },
      "execution_count": null,
      "outputs": [
        {
          "output_type": "execute_result",
          "data": {
            "text/plain": [
              "45-54         80043\n",
              "55-64         75136\n",
              "35-44         55011\n",
              "25-34         49718\n",
              "65-74         41216\n",
              "19-24         24230\n",
              "75 or over    15226\n",
              "              12202\n",
              "13-18          7045\n",
              "7-12           1644\n",
              "3-6             838\n",
              "0-2             497\n",
              "Name: Age, dtype: int64"
            ]
          },
          "metadata": {},
          "execution_count": 9
        }
      ]
    },
    {
      "cell_type": "code",
      "source": [
        "for col in df.columns:\n",
        "    if df[col].dtype.kind == \"O\":\n",
        "        df[col] = df[col].str.strip()"
      ],
      "metadata": {
        "id": "fBRTEk__4SgP"
      },
      "execution_count": null,
      "outputs": []
    },
    {
      "cell_type": "code",
      "source": [
        "df['Sex'].replace('', np.nan, inplace=True)\n",
        "df['Age'].replace('', np.nan, inplace=True)\n",
        "df['Sides'].replace('', np.nan, inplace=True)\n",
        "df['Condition'].replace('', np.nan, inplace=True)"
      ],
      "metadata": {
        "id": "ambNFImX4Xcx"
      },
      "execution_count": null,
      "outputs": []
    },
    {
      "cell_type": "code",
      "source": [
        "df = df.dropna()"
      ],
      "metadata": {
        "id": "aY1lsFar4bKJ"
      },
      "execution_count": null,
      "outputs": []
    },
    {
      "cell_type": "code",
      "source": [
        "df.info()"
      ],
      "metadata": {
        "colab": {
          "base_uri": "https://localhost:8080/"
        },
        "id": "CrSxft764eyA",
        "outputId": "cd13d90a-db8a-4e5c-a9e9-0e764bc60ad9"
      },
      "execution_count": null,
      "outputs": [
        {
          "output_type": "stream",
          "name": "stdout",
          "text": [
            "<class 'pandas.core.frame.DataFrame'>\n",
            "Int64Index: 315578 entries, 0 to 362805\n",
            "Data columns (total 9 columns):\n",
            " #   Column         Non-Null Count   Dtype \n",
            "---  ------         --------------   ----- \n",
            " 0   Age            315578 non-null  object\n",
            " 1   Condition      315578 non-null  object\n",
            " 2   Drug           315578 non-null  object\n",
            " 3   DrugId         315578 non-null  int64 \n",
            " 4   Effectiveness  315578 non-null  int64 \n",
            " 5   Reviews        315578 non-null  object\n",
            " 6   Satisfaction   315578 non-null  int64 \n",
            " 7   Sex            315578 non-null  object\n",
            " 8   Sides          315578 non-null  object\n",
            "dtypes: int64(3), object(6)\n",
            "memory usage: 24.1+ MB\n"
          ]
        }
      ]
    },
    {
      "cell_type": "code",
      "source": [
        "df.nunique()"
      ],
      "metadata": {
        "colab": {
          "base_uri": "https://localhost:8080/"
        },
        "id": "6XiaRRvb4jyZ",
        "outputId": "3b45c1c9-d02a-4dbf-f7a5-5e4cc5f38732"
      },
      "execution_count": null,
      "outputs": [
        {
          "output_type": "execute_result",
          "data": {
            "text/plain": [
              "Age                  11\n",
              "Condition          1639\n",
              "Drug               5278\n",
              "DrugId             4771\n",
              "Effectiveness         6\n",
              "Reviews          216182\n",
              "Satisfaction          6\n",
              "Sex                   2\n",
              "Sides              1616\n",
              "dtype: int64"
            ]
          },
          "metadata": {},
          "execution_count": 14
        }
      ]
    },
    {
      "cell_type": "code",
      "source": [
        "drugs = {}\n",
        "for drugid, drug in df[[\"DrugId\", \"Drug\"]].itertuples(index=False):\n",
        "    drugs.setdefault(drugid, set()).add(drug)\n",
        "drugs = {k:list(v) for k,v in drugs.items()}\n",
        "\n",
        "drugs_with_more_names = {k:list(v) for k,v in drugs.items() if len(v) > 1}\n",
        "for k,v in dict(itertools.islice(drugs_with_more_names.items(), 10)).items():\n",
        "    print(f\"{k:10}: {list(v)[:2]}\")"
      ],
      "metadata": {
        "colab": {
          "base_uri": "https://localhost:8080/"
        },
        "id": "0AML9kzH4oW8",
        "outputId": "6e47f6fe-9d32-4462-bfb7-f6a36ae2afb9"
      },
      "execution_count": null,
      "outputs": [
        {
          "output_type": "stream",
          "name": "stdout",
          "text": [
            "    167493: ['lynparza tablet', 'lynparza']\n",
            "      7286: ['loteprednol etabonate drops, suspension', 'loteprednol etabonate drops, gel']\n",
            "      7319: ['lotemax drops, gel', 'lotemax ointment']\n",
            "    164437: ['lorcaserin tablet', 'lorcaserin tablet, extended release 24 hr']\n",
            "      8892: ['lorazepam concentrate', 'lorazepam']\n",
            "     76548: ['loratadine-d', 'loratadine d']\n",
            "        73: ['loratadine tablet,disintegrating', 'loratadine']\n",
            "      8555: ['loprox suspension, topical', 'loprox cream']\n",
            "      4789: ['loperamide', 'loperamide liquid']\n",
            "      5887: ['lithium carbonate', 'lithium carbonate er']\n"
          ]
        }
      ]
    },
    {
      "cell_type": "code",
      "source": [
        "plt.boxplot(df['Satisfaction'])\n",
        "plt.title(\"Boxplot of Satisfaction\")\n",
        "plt.show()"
      ],
      "metadata": {
        "colab": {
          "base_uri": "https://localhost:8080/",
          "height": 281
        },
        "id": "WuOxWLvl4s9Y",
        "outputId": "a4db1e72-bb7d-46e7-f362-394d1d2ae787"
      },
      "execution_count": null,
      "outputs": [
        {
          "output_type": "display_data",
          "data": {
            "text/plain": [
              "<Figure size 432x288 with 1 Axes>"
            ],
            "image/png": "[encoded data removed]"
          },
          "metadata": {
            "needs_background": "light"
          }
        }
      ]
    },
    {
      "cell_type": "code",
      "source": [
        "index_values = df[(df['Satisfaction'] > 5)].index\n",
        "index_values"
      ],
      "metadata": {
        "colab": {
          "base_uri": "https://localhost:8080/"
        },
        "id": "AZAQgwSd40fB",
        "outputId": "9c5399c9-b6c2-43e6-da84-28711b54c916"
      },
      "execution_count": null,
      "outputs": [
        {
          "output_type": "execute_result",
          "data": {
            "text/plain": [
              "Int64Index([195073, 195282], dtype='int64')"
            ]
          },
          "metadata": {},
          "execution_count": 17
        }
      ]
    },
    {
      "cell_type": "code",
      "source": [
        "df.drop([195073, 195282], axis=0, inplace=True)"
      ],
      "metadata": {
        "colab": {
          "base_uri": "https://localhost:8080/"
        },
        "id": "4MpXb30W44jQ",
        "outputId": "a9a2c0af-7757-4a98-bb22-75e02dc2129f"
      },
      "execution_count": null,
      "outputs": [
        {
          "output_type": "stream",
          "name": "stderr",
          "text": [
            "/usr/local/lib/python3.7/dist-packages/pandas/core/frame.py:4913: SettingWithCopyWarning: \n",
            "A value is trying to be set on a copy of a slice from a DataFrame\n",
            "\n",
            "See the caveats in the documentation: https://pandas.pydata.org/pandas-docs/stable/user_guide/indexing.html#returning-a-view-versus-a-copy\n",
            "  errors=errors,\n"
          ]
        }
      ]
    },
    {
      "cell_type": "code",
      "source": [
        "def relabel(x):\n",
        "    return 0 if x < 3 else 1 if x == 3 else 2\n",
        "\n",
        "df[\"Satisfaction\"] = df[\"Satisfaction\"].apply(relabel)"
      ],
      "metadata": {
        "colab": {
          "base_uri": "https://localhost:8080/"
        },
        "id": "5A2rGxWj5DJ3",
        "outputId": "e11b5257-c85d-4b83-9667-c27460fbe8f9"
      },
      "execution_count": null,
      "outputs": [
        {
          "output_type": "stream",
          "name": "stderr",
          "text": [
            "/usr/local/lib/python3.7/dist-packages/ipykernel_launcher.py:4: SettingWithCopyWarning: \n",
            "A value is trying to be set on a copy of a slice from a DataFrame.\n",
            "Try using .loc[row_indexer,col_indexer] = value instead\n",
            "\n",
            "See the caveats in the documentation: https://pandas.pydata.org/pandas-docs/stable/user_guide/indexing.html#returning-a-view-versus-a-copy\n",
            "  after removing the cwd from sys.path.\n"
          ]
        }
      ]
    },
    {
      "cell_type": "code",
      "source": [
        "data = (df.groupby([\"Age\", \"Satisfaction\"])\n",
        "          .agg({\"Reviews\": \"count\"})\n",
        "          .reset_index()).sort_values([\"Age\", \"Satisfaction\"], ascending=True)\n",
        "#data['Cumulative_Reviews'] = data.groupby(['Age'])['Reviews'].apply(lambda x: x.cumsum())\n",
        "\n",
        "bars = (alt.Chart(data=data, title=\"Distribution of Reviews Over Age\")\n",
        "           .mark_bar(size=40,\n",
        "                     strokeWidth=0.5,\n",
        "                     stroke=\"white\")\n",
        "           .encode(x=alt.X('Age:O',\n",
        "                           axis=alt.Axis(title=\"Age groups\", grid=False)),\n",
        "                   y=alt.Y('Reviews:Q', stack='zero',\n",
        "                           scale=alt.Scale(type=\"linear\"),\n",
        "                           axis=alt.Axis(title=\"num of reviews\")),\n",
        "                   order=alt.Order('Satisfaction', sort='ascending'),\n",
        "                   color=alt.Color(\"Satisfaction:Q\",\n",
        "                                   scale=alt.Scale(scheme=\"lightgreyteal\",\n",
        "                                                   bins=[0,1,2,3],\n",
        "                                                   reverse=False))))\n",
        "                   \n",
        "chart = (alt.layer(bars)\n",
        "            .configure(background=\"#11043a\")\n",
        "            .configure_title(font=\"Arial\",\n",
        "                             fontSize=18,\n",
        "                             color=\"#e6f3ff\",\n",
        "                             dy=-10)\n",
        "            .configure_legend(titleFontSize=12,\n",
        "                              titleColor=\"white\",\n",
        "                              tickCount=10,\n",
        "                              titleOpacity=0.8,\n",
        "                              labelColor=\"white\",\n",
        "                              labelOpacity=0.7,\n",
        "                              titlePadding=10)\n",
        "            .configure_axis(titleFontSize=13,\n",
        "                            titlePadding=20,\n",
        "                            titleColor=\"white\",\n",
        "                            titleOpacity=0.8,\n",
        "                            labelColor=\"white\",\n",
        "                            labelOpacity=0.7,\n",
        "                            labelAngle=0,\n",
        "                            tickOffset=0,\n",
        "                            grid=True,\n",
        "                            gridOpacity=0.15)\n",
        "            .configure_view(strokeWidth=0)\n",
        "            .properties(height=300, width=700)\n",
        ")\n",
        "chart"
      ],
      "metadata": {
        "colab": {
          "base_uri": "https://localhost:8080/",
          "height": 418
        },
        "id": "tGT1ArAO5F8W",
        "outputId": "21974bb8-d30c-45fa-aa7a-b1f0dc27fe98"
      },
      "execution_count": null,
      "outputs": [
        {
          "output_type": "execute_result",
          "data": {
            "text/html": [
              "\n",
              "<div id=\"altair-viz-d5c927166fb24b6e8f3b821f590e5e23\"></div>\n",
              "<script type=\"text/javascript\">\n",
              "  var VEGA_DEBUG = (typeof VEGA_DEBUG == \"undefined\") ? {} : VEGA_DEBUG;\n",
              "  (function(spec, embedOpt){\n",
              "    let outputDiv = document.currentScript.previousElementSibling;\n",
              "    if (outputDiv.id !== \"altair-viz-d5c927166fb24b6e8f3b821f590e5e23\") {\n",
              "      outputDiv = document.getElementById(\"altair-viz-d5c927166fb24b6e8f3b821f590e5e23\");\n",
              "    }\n",
              "    const paths = {\n",
              "      \"vega\": \"https://cdn.jsdelivr.net/npm//vega@5?noext\",\n",
              "      \"vega-lib\": \"https://cdn.jsdelivr.net/npm//vega-lib?noext\",\n",
              "      \"vega-lite\": \"https://cdn.jsdelivr.net/npm//vega-lite@4.17.0?noext\",\n",
              "      \"vega-embed\": \"https://cdn.jsdelivr.net/npm//vega-embed@6?noext\",\n",
              "    };\n",
              "\n",
              "    function maybeLoadScript(lib, version) {\n",
              "      var key = `${lib.replace(\"-\", \"\")}_version`;\n",
              "      return (VEGA_DEBUG[key] == version) ?\n",
              "        Promise.resolve(paths[lib]) :\n",
              "        new Promise(function(resolve, reject) {\n",
              "          var s = document.createElement('script');\n",
              "          document.getElementsByTagName(\"head\")[0].appendChild(s);\n",
              "          s.async = true;\n",
              "          s.onload = () => {\n",
              "            VEGA_DEBUG[key] = version;\n",
              "            return resolve(paths[lib]);\n",
              "          };\n",
              "          s.onerror = () => reject(`Error loading script: ${paths[lib]}`);\n",
              "          s.src = paths[lib];\n",
              "        });\n",
              "    }\n",
              "\n",
              "    function showError(err) {\n",
              "      outputDiv.innerHTML = `<div class=\"error\" style=\"color:red;\">${err}</div>`;\n",
              "      throw err;\n",
              "    }\n",
              "\n",
              "    function displayChart(vegaEmbed) {\n",
              "      vegaEmbed(outputDiv, spec, embedOpt)\n",
              "        .catch(err => showError(`Javascript Error: ${err.message}<br>This usually means there's a typo in your chart specification. See the javascript console for the full traceback.`));\n",
              "    }\n",
              "\n",
              "    if(typeof define === \"function\" && define.amd) {\n",
              "      requirejs.config({paths});\n",
              "      require([\"vega-embed\"], displayChart, err => showError(`Error loading script: ${err.message}`));\n",
              "    } else {\n",
              "      maybeLoadScript(\"vega\", \"5\")\n",
              "        .then(() => maybeLoadScript(\"vega-lite\", \"4.17.0\"))\n",
              "        .then(() => maybeLoadScript(\"vega-embed\", \"6\"))\n",
              "        .catch(showError)\n",
              "        .then(() => displayChart(vegaEmbed));\n",
              "    }\n",
              "  })({\"config\": {\"view\": {\"continuousWidth\": 400, \"continuousHeight\": 300, \"strokeWidth\": 0}, \"axis\": {\"grid\": true, \"gridOpacity\": 0.15, \"labelAngle\": 0, \"labelColor\": \"white\", \"labelOpacity\": 0.7, \"tickOffset\": 0, \"titleColor\": \"white\", \"titleFontSize\": 13, \"titleOpacity\": 0.8, \"titlePadding\": 20}, \"background\": \"#11043a\", \"legend\": {\"labelColor\": \"white\", \"labelOpacity\": 0.7, \"tickCount\": 10, \"titleColor\": \"white\", \"titleFontSize\": 12, \"titleOpacity\": 0.8, \"titlePadding\": 10}, \"title\": {\"color\": \"#e6f3ff\", \"dy\": -10, \"font\": \"Arial\", \"fontSize\": 18}}, \"layer\": [{\"mark\": {\"type\": \"bar\", \"size\": 40, \"stroke\": \"white\", \"strokeWidth\": 0.5}, \"encoding\": {\"color\": {\"field\": \"Satisfaction\", \"scale\": {\"bins\": [0, 1, 2, 3], \"reverse\": false, \"scheme\": \"lightgreyteal\"}, \"type\": \"quantitative\"}, \"order\": {\"field\": \"Satisfaction\", \"sort\": \"ascending\", \"type\": \"quantitative\"}, \"x\": {\"axis\": {\"grid\": false, \"title\": \"Age groups\"}, \"field\": \"Age\", \"type\": \"ordinal\"}, \"y\": {\"axis\": {\"title\": \"num of reviews\"}, \"field\": \"Reviews\", \"scale\": {\"type\": \"linear\"}, \"stack\": \"zero\", \"type\": \"quantitative\"}}, \"title\": \"Distribution of Reviews Over Age\"}], \"data\": {\"name\": \"data-e81723af8f2197af0707fd97b4e9c353\"}, \"height\": 300, \"width\": 700, \"$schema\": \"https://vega.github.io/schema/vega-lite/v4.17.0.json\", \"datasets\": {\"data-e81723af8f2197af0707fd97b4e9c353\": [{\"Age\": \"0-2\", \"Satisfaction\": 0, \"Reviews\": 213}, {\"Age\": \"0-2\", \"Satisfaction\": 1, \"Reviews\": 42}, {\"Age\": \"0-2\", \"Satisfaction\": 2, \"Reviews\": 175}, {\"Age\": \"13-18\", \"Satisfaction\": 0, \"Reviews\": 2756}, {\"Age\": \"13-18\", \"Satisfaction\": 1, \"Reviews\": 1000}, {\"Age\": \"13-18\", \"Satisfaction\": 2, \"Reviews\": 2774}, {\"Age\": \"19-24\", \"Satisfaction\": 0, \"Reviews\": 9036}, {\"Age\": \"19-24\", \"Satisfaction\": 1, \"Reviews\": 3101}, {\"Age\": \"19-24\", \"Satisfaction\": 2, \"Reviews\": 10483}, {\"Age\": \"25-34\", \"Satisfaction\": 0, \"Reviews\": 17491}, {\"Age\": \"25-34\", \"Satisfaction\": 1, \"Reviews\": 6643}, {\"Age\": \"25-34\", \"Satisfaction\": 2, \"Reviews\": 22500}, {\"Age\": \"3-6\", \"Satisfaction\": 0, \"Reviews\": 315}, {\"Age\": \"3-6\", \"Satisfaction\": 1, \"Reviews\": 108}, {\"Age\": \"3-6\", \"Satisfaction\": 2, \"Reviews\": 310}, {\"Age\": \"35-44\", \"Satisfaction\": 0, \"Reviews\": 17631}, {\"Age\": \"35-44\", \"Satisfaction\": 1, \"Reviews\": 7329}, {\"Age\": \"35-44\", \"Satisfaction\": 2, \"Reviews\": 25904}, {\"Age\": \"45-54\", \"Satisfaction\": 0, \"Reviews\": 25395}, {\"Age\": \"45-54\", \"Satisfaction\": 1, \"Reviews\": 10611}, {\"Age\": \"45-54\", \"Satisfaction\": 2, \"Reviews\": 36359}, {\"Age\": \"55-64\", \"Satisfaction\": 0, \"Reviews\": 24208}, {\"Age\": \"55-64\", \"Satisfaction\": 1, \"Reviews\": 9394}, {\"Age\": \"55-64\", \"Satisfaction\": 2, \"Reviews\": 31927}, {\"Age\": \"65-74\", \"Satisfaction\": 0, \"Reviews\": 13332}, {\"Age\": \"65-74\", \"Satisfaction\": 1, \"Reviews\": 5116}, {\"Age\": \"65-74\", \"Satisfaction\": 2, \"Reviews\": 16690}, {\"Age\": \"7-12\", \"Satisfaction\": 0, \"Reviews\": 655}, {\"Age\": \"7-12\", \"Satisfaction\": 1, \"Reviews\": 211}, {\"Age\": \"7-12\", \"Satisfaction\": 2, \"Reviews\": 654}, {\"Age\": \"75 or over\", \"Satisfaction\": 0, \"Reviews\": 5157}, {\"Age\": \"75 or over\", \"Satisfaction\": 1, \"Reviews\": 2198}, {\"Age\": \"75 or over\", \"Satisfaction\": 2, \"Reviews\": 5858}]}}, {\"mode\": \"vega-lite\"});\n",
              "</script>"
            ],
            "text/plain": [
              "alt.LayerChart(...)"
            ]
          },
          "metadata": {},
          "execution_count": 20
        }
      ]
    },
    {
      "cell_type": "code",
      "source": [
        "pd.crosstab(df['Age'],df['Effectiveness'])"
      ],
      "metadata": {
        "colab": {
          "base_uri": "https://localhost:8080/",
          "height": 426
        },
        "id": "PJRVMjWt5NJz",
        "outputId": "bf5d60f1-65e7-44b3-e175-19a19e31355d"
      },
      "execution_count": null,
      "outputs": [
        {
          "output_type": "execute_result",
          "data": {
            "text/plain": [
              "Effectiveness      1     2      3      4      5\n",
              "Age                                            \n",
              "0-2               95    38     85     86    126\n",
              "13-18           1074   628   1039   1543   2246\n",
              "19-24           3151  1641   3290   5182   9356\n",
              "25-34           6849  3442   7296  10763  18284\n",
              "3-6              166    85    119    148    215\n",
              "35-44           7749  4002   8353  11652  19108\n",
              "45-54          11309  6142  11987  16947  25980\n",
              "55-64          10700  5822  11275  14986  22746\n",
              "65-74           5879  3431   6291   7926  11611\n",
              "7-12             308   151    300    325    436\n",
              "75 or over      2465  1337   2718   3066   3627"
            ],
            "text/html": [
              "\n",
              "  <div id=\"df-2f4a7acf-32fa-4185-b05b-c59a89e1cc59\">\n",
              "    <div class=\"colab-df-container\">\n",
              "      <div>\n",
              "<style scoped>\n",
              "    .dataframe tbody tr th:only-of-type {\n",
              "        vertical-align: middle;\n",
              "    }\n",
              "\n",
              "    .dataframe tbody tr th {\n",
              "        vertical-align: top;\n",
              "    }\n",
              "\n",
              "    .dataframe thead th {\n",
              "        text-align: right;\n",
              "    }\n",
              "</style>\n",
              "<table border=\"1\" class=\"dataframe\">\n",
              "  <thead>\n",
              "    <tr style=\"text-align: right;\">\n",
              "      <th>Effectiveness</th>\n",
              "      <th>1</th>\n",
              "      <th>2</th>\n",
              "      <th>3</th>\n",
              "      <th>4</th>\n",
              "      <th>5</th>\n",
              "    </tr>\n",
              "    <tr>\n",
              "      <th>Age</th>\n",
              "      <th></th>\n",
              "      <th></th>\n",
              "      <th></th>\n",
              "      <th></th>\n",
              "      <th></th>\n",
              "    </tr>\n",
              "  </thead>\n",
              "  <tbody>\n",
              "    <tr>\n",
              "      <th>0-2</th>\n",
              "      <td>95</td>\n",
              "      <td>38</td>\n",
              "      <td>85</td>\n",
              "      <td>86</td>\n",
              "      <td>126</td>\n",
              "    </tr>\n",
              "    <tr>\n",
              "      <th>13-18</th>\n",
              "      <td>1074</td>\n",
              "      <td>628</td>\n",
              "      <td>1039</td>\n",
              "      <td>1543</td>\n",
              "      <td>2246</td>\n",
              "    </tr>\n",
              "    <tr>\n",
              "      <th>19-24</th>\n",
              "      <td>3151</td>\n",
              "      <td>1641</td>\n",
              "      <td>3290</td>\n",
              "      <td>5182</td>\n",
              "      <td>9356</td>\n",
              "    </tr>\n",
              "    <tr>\n",
              "      <th>25-34</th>\n",
              "      <td>6849</td>\n",
              "      <td>3442</td>\n",
              "      <td>7296</td>\n",
              "      <td>10763</td>\n",
              "      <td>18284</td>\n",
              "    </tr>\n",
              "    <tr>\n",
              "      <th>3-6</th>\n",
              "      <td>166</td>\n",
              "      <td>85</td>\n",
              "      <td>119</td>\n",
              "      <td>148</td>\n",
              "      <td>215</td>\n",
              "    </tr>\n",
              "    <tr>\n",
              "      <th>35-44</th>\n",
              "      <td>7749</td>\n",
              "      <td>4002</td>\n",
              "      <td>8353</td>\n",
              "      <td>11652</td>\n",
              "      <td>19108</td>\n",
              "    </tr>\n",
              "    <tr>\n",
              "      <th>45-54</th>\n",
              "      <td>11309</td>\n",
              "      <td>6142</td>\n",
              "      <td>11987</td>\n",
              "      <td>16947</td>\n",
              "      <td>25980</td>\n",
              "    </tr>\n",
              "    <tr>\n",
              "      <th>55-64</th>\n",
              "      <td>10700</td>\n",
              "      <td>5822</td>\n",
              "      <td>11275</td>\n",
              "      <td>14986</td>\n",
              "      <td>22746</td>\n",
              "    </tr>\n",
              "    <tr>\n",
              "      <th>65-74</th>\n",
              "      <td>5879</td>\n",
              "      <td>3431</td>\n",
              "      <td>6291</td>\n",
              "      <td>7926</td>\n",
              "      <td>11611</td>\n",
              "    </tr>\n",
              "    <tr>\n",
              "      <th>7-12</th>\n",
              "      <td>308</td>\n",
              "      <td>151</td>\n",
              "      <td>300</td>\n",
              "      <td>325</td>\n",
              "      <td>436</td>\n",
              "    </tr>\n",
              "    <tr>\n",
              "      <th>75 or over</th>\n",
              "      <td>2465</td>\n",
              "      <td>1337</td>\n",
              "      <td>2718</td>\n",
              "      <td>3066</td>\n",
              "      <td>3627</td>\n",
              "    </tr>\n",
              "  </tbody>\n",
              "</table>\n",
              "</div>\n",
              "      <button class=\"colab-df-convert\" onclick=\"convertToInteractive('df-2f4a7acf-32fa-4185-b05b-c59a89e1cc59')\"\n",
              "              title=\"Convert this dataframe to an interactive table.\"\n",
              "              style=\"display:none;\">\n",
              "        \n",
              "  <svg xmlns=\"http://www.w3.org/2000/svg\" height=\"24px\"viewBox=\"0 0 24 24\"\n",
              "       width=\"24px\">\n",
              "    <path d=\"M0 0h24v24H0V0z\" fill=\"none\"/>\n",
              "    <path d=\"M18.56 5.44l.94 2.06.94-2.06 2.06-.94-2.06-.94-.94-2.06-.94 2.06-2.06.94zm-11 1L8.5 8.5l.94-2.06 2.06-.94-2.06-.94L8.5 2.5l-.94 2.06-2.06.94zm10 10l.94 2.06.94-2.06 2.06-.94-2.06-.94-.94-2.06-.94 2.06-2.06.94z\"/><path d=\"M17.41 7.96l-1.37-1.37c-.4-.4-.92-.59-1.43-.59-.52 0-1.04.2-1.43.59L10.3 9.45l-7.72 7.72c-.78.78-.78 2.05 0 2.83L4 21.41c.39.39.9.59 1.41.59.51 0 1.02-.2 1.41-.59l7.78-7.78 2.81-2.81c.8-.78.8-2.07 0-2.86zM5.41 20L4 18.59l7.72-7.72 1.47 1.35L5.41 20z\"/>\n",
              "  </svg>\n",
              "      </button>\n",
              "      \n",
              "  <style>\n",
              "    .colab-df-container {\n",
              "      display:flex;\n",
              "      flex-wrap:wrap;\n",
              "      gap: 12px;\n",
              "    }\n",
              "\n",
              "    .colab-df-convert {\n",
              "      background-color: #E8F0FE;\n",
              "      border: none;\n",
              "      border-radius: 50%;\n",
              "      cursor: pointer;\n",
              "      display: none;\n",
              "      fill: #1967D2;\n",
              "      height: 32px;\n",
              "      padding: 0 0 0 0;\n",
              "      width: 32px;\n",
              "    }\n",
              "\n",
              "    .colab-df-convert:hover {\n",
              "      background-color: #E2EBFA;\n",
              "      box-shadow: 0px 1px 2px rgba(60, 64, 67, 0.3), 0px 1px 3px 1px rgba(60, 64, 67, 0.15);\n",
              "      fill: #174EA6;\n",
              "    }\n",
              "\n",
              "    [theme=dark] .colab-df-convert {\n",
              "      background-color: #3B4455;\n",
              "      fill: #D2E3FC;\n",
              "    }\n",
              "\n",
              "    [theme=dark] .colab-df-convert:hover {\n",
              "      background-color: #434B5C;\n",
              "      box-shadow: 0px 1px 3px 1px rgba(0, 0, 0, 0.15);\n",
              "      filter: drop-shadow(0px 1px 2px rgba(0, 0, 0, 0.3));\n",
              "      fill: #FFFFFF;\n",
              "    }\n",
              "  </style>\n",
              "\n",
              "      <script>\n",
              "        const buttonEl =\n",
              "          document.querySelector('#df-2f4a7acf-32fa-4185-b05b-c59a89e1cc59 button.colab-df-convert');\n",
              "        buttonEl.style.display =\n",
              "          google.colab.kernel.accessAllowed ? 'block' : 'none';\n",
              "\n",
              "        async function convertToInteractive(key) {\n",
              "          const element = document.querySelector('#df-2f4a7acf-32fa-4185-b05b-c59a89e1cc59');\n",
              "          const dataTable =\n",
              "            await google.colab.kernel.invokeFunction('convertToInteractive',\n",
              "                                                     [key], {});\n",
              "          if (!dataTable) return;\n",
              "\n",
              "          const docLinkHtml = 'Like what you see? Visit the ' +\n",
              "            '<a target=\"_blank\" href=https://colab.research.google.com/notebooks/data_table.ipynb>data table notebook</a>'\n",
              "            + ' to learn more about interactive tables.';\n",
              "          element.innerHTML = '';\n",
              "          dataTable['output_type'] = 'display_data';\n",
              "          await google.colab.output.renderOutput(dataTable, element);\n",
              "          const docLink = document.createElement('div');\n",
              "          docLink.innerHTML = docLinkHtml;\n",
              "          element.appendChild(docLink);\n",
              "        }\n",
              "      </script>\n",
              "    </div>\n",
              "  </div>\n",
              "  "
            ]
          },
          "metadata": {},
          "execution_count": 21
        }
      ]
    },
    {
      "cell_type": "code",
      "source": [
        "plt.figure(figsize=(20,20))\n",
        "l=df['Age'].value_counts().nlargest(10)\n",
        "plt.pie(l,labels=l.index,shadow=True, textprops={'fontsize': 10},autopct='%1.2f%%')\n",
        "plt.show()"
      ],
      "metadata": {
        "colab": {
          "base_uri": "https://localhost:8080/",
          "height": 1000
        },
        "id": "-MPdCfFd5Ryf",
        "outputId": "5b54c32f-37b6-4e50-c63b-c312f1bcd7ca"
      },
      "execution_count": null,
      "outputs": [
        {
          "output_type": "display_data",
          "data": {
            "text/plain": [
              "<Figure size 1440x1440 with 1 Axes>"
            ],
            "image/png": "[encoded data removed]"
          },
          "metadata": {}
        }
      ]
    },
    {
      "cell_type": "code",
      "source": [
        "from sklearn.preprocessing import LabelEncoder\n",
        "a=['Condition']\n",
        "for i in np.arange(len(a)):\n",
        "    print(df[a[i]].drop_duplicates())\n",
        "    df[a[i]] = LabelEncoder().fit_transform(df[a[i]])"
      ],
      "metadata": {
        "colab": {
          "base_uri": "https://localhost:8080/"
        },
        "id": "aNGRPTn85V4Y",
        "outputId": "b0b1f5d8-85dc-48c9-cf58-f6fe173777b3"
      },
      "execution_count": null,
      "outputs": [
        {
          "output_type": "stream",
          "name": "stdout",
          "text": [
            "0                              Stuffy Nose\n",
            "1                            Cold Symptoms\n",
            "6                            Birth Control\n",
            "7            Disease of Ovaries with Cysts\n",
            "8                                     Acne\n",
            "                        ...               \n",
            "360515            Medullary Thyroid Cancer\n",
            "360680                Inadequate Vitamin C\n",
            "361078       Hiccups that are Hard to Cure\n",
            "361112    Combative and Explosive Behavior\n",
            "361545                      Lead Poisoning\n",
            "Name: Condition, Length: 1639, dtype: object\n"
          ]
        },
        {
          "output_type": "stream",
          "name": "stderr",
          "text": [
            "/usr/local/lib/python3.7/dist-packages/ipykernel_launcher.py:5: SettingWithCopyWarning: \n",
            "A value is trying to be set on a copy of a slice from a DataFrame.\n",
            "Try using .loc[row_indexer,col_indexer] = value instead\n",
            "\n",
            "See the caveats in the documentation: https://pandas.pydata.org/pandas-docs/stable/user_guide/indexing.html#returning-a-view-versus-a-copy\n",
            "  \"\"\"\n"
          ]
        }
      ]
    },
    {
      "cell_type": "code",
      "source": [
        "a=['Age']\n",
        "for i in np.arange(len(a)):\n",
        "    print(df[a[i]].drop_duplicates())\n",
        "    df[a[i]] = LabelEncoder().fit_transform(df[a[i]])"
      ],
      "metadata": {
        "colab": {
          "base_uri": "https://localhost:8080/"
        },
        "id": "lz7UdIAX5agU",
        "outputId": "7b0158dc-2fe2-4031-85d0-33e1568eaef0"
      },
      "execution_count": null,
      "outputs": [
        {
          "output_type": "stream",
          "name": "stdout",
          "text": [
            "0       75 or over\n",
            "1            25-34\n",
            "7            45-54\n",
            "9            55-64\n",
            "13           19-24\n",
            "26           35-44\n",
            "55           13-18\n",
            "122          65-74\n",
            "3254          7-12\n",
            "4682           0-2\n",
            "4730           3-6\n",
            "Name: Age, dtype: object\n"
          ]
        },
        {
          "output_type": "stream",
          "name": "stderr",
          "text": [
            "/usr/local/lib/python3.7/dist-packages/ipykernel_launcher.py:4: SettingWithCopyWarning: \n",
            "A value is trying to be set on a copy of a slice from a DataFrame.\n",
            "Try using .loc[row_indexer,col_indexer] = value instead\n",
            "\n",
            "See the caveats in the documentation: https://pandas.pydata.org/pandas-docs/stable/user_guide/indexing.html#returning-a-view-versus-a-copy\n",
            "  after removing the cwd from sys.path.\n"
          ]
        }
      ]
    },
    {
      "cell_type": "code",
      "source": [
        "a=['Sex']\n",
        "for i in np.arange(len(a)):\n",
        "    print(df[a[i]].drop_duplicates())\n",
        "    df[a[i]] = LabelEncoder().fit_transform(df[a[i]])"
      ],
      "metadata": {
        "colab": {
          "base_uri": "https://localhost:8080/"
        },
        "id": "pNQ8q8_Y5ex4",
        "outputId": "7da9566a-7728-4c6e-9818-daf39c985bb3"
      },
      "execution_count": null,
      "outputs": [
        {
          "output_type": "stream",
          "name": "stdout",
          "text": [
            "0      Male\n",
            "1    Female\n",
            "Name: Sex, dtype: object\n"
          ]
        },
        {
          "output_type": "stream",
          "name": "stderr",
          "text": [
            "/usr/local/lib/python3.7/dist-packages/ipykernel_launcher.py:4: SettingWithCopyWarning: \n",
            "A value is trying to be set on a copy of a slice from a DataFrame.\n",
            "Try using .loc[row_indexer,col_indexer] = value instead\n",
            "\n",
            "See the caveats in the documentation: https://pandas.pydata.org/pandas-docs/stable/user_guide/indexing.html#returning-a-view-versus-a-copy\n",
            "  after removing the cwd from sys.path.\n"
          ]
        }
      ]
    },
    {
      "cell_type": "code",
      "source": [
        "a=['Sides']\n",
        "for i in np.arange(len(a)):\n",
        "    print(df[a[i]].drop_duplicates())\n",
        "    df[a[i]] = LabelEncoder().fit_transform(df[a[i]])"
      ],
      "metadata": {
        "colab": {
          "base_uri": "https://localhost:8080/"
        },
        "id": "bOp7j_Hf5i1s",
        "outputId": "974d9fa1-8690-4680-bc1b-1183738dde1c"
      },
      "execution_count": null,
      "outputs": [
        {
          "output_type": "stream",
          "name": "stdout",
          "text": [
            "0         Drowsiness,  dizziness ,  dry mouth /nose/thro...\n",
            "6         Nausea ,  vomiting ,  headache ,  bloating ,  ...\n",
            "9         Temporary burning, stinging, dryness in the no...\n",
            "13        Nausea ,  vomiting ,  headache ,  bloating ,  ...\n",
            "30        Constipation ,  diarrhea , or  upset stomach  ...\n",
            "                                ...                        \n",
            "361078    Drowsiness,  dizziness ,  lightheadedness ,  d...\n",
            "361080    Nausea , loss of appetite,  diarrhea ,  vomiti...\n",
            "361289    Blurred vision ,  nausea ,  vomiting , abdomin...\n",
            "361335    Drowsiness,  dizziness ,  nausea ,  constipati...\n",
            "361387    Drowsiness,  dizziness ,  dry mouth ,  blurred...\n",
            "Name: Sides, Length: 1616, dtype: object\n"
          ]
        },
        {
          "output_type": "stream",
          "name": "stderr",
          "text": [
            "/usr/local/lib/python3.7/dist-packages/ipykernel_launcher.py:4: SettingWithCopyWarning: \n",
            "A value is trying to be set on a copy of a slice from a DataFrame.\n",
            "Try using .loc[row_indexer,col_indexer] = value instead\n",
            "\n",
            "See the caveats in the documentation: https://pandas.pydata.org/pandas-docs/stable/user_guide/indexing.html#returning-a-view-versus-a-copy\n",
            "  after removing the cwd from sys.path.\n"
          ]
        }
      ]
    },
    {
      "cell_type": "code",
      "source": [
        "corrmatrix = df.corr()\n",
        "plt.subplots(figsize=(20,8))\n",
        "sns.heatmap(corrmatrix,vmin=-0.01,vmax=0.6,annot=True,linewidths=0.2,cmap='Blues')"
      ],
      "metadata": {
        "colab": {
          "base_uri": "https://localhost:8080/",
          "height": 504
        },
        "id": "twb99LOW5nCk",
        "outputId": "625a248e-06ed-4d2e-c091-fe71a81b8572"
      },
      "execution_count": null,
      "outputs": [
        {
          "output_type": "execute_result",
          "data": {
            "text/plain": [
              "<matplotlib.axes._subplots.AxesSubplot at 0x7fde33317e90>"
            ]
          },
          "metadata": {},
          "execution_count": 27
        },
        {
          "output_type": "display_data",
          "data": {
            "text/plain": [
              "<Figure size 1440x576 with 2 Axes>"
            ],
            "image/png": "[encoded data removed]"
          },
          "metadata": {
            "needs_background": "light"
          }
        }
      ]
    },
    {
      "cell_type": "code",
      "source": [
        "df.info()"
      ],
      "metadata": {
        "colab": {
          "base_uri": "https://localhost:8080/"
        },
        "id": "mJjmxRLk5tVK",
        "outputId": "ef10192c-34e0-4281-9039-54d0f7489293"
      },
      "execution_count": null,
      "outputs": [
        {
          "output_type": "stream",
          "name": "stdout",
          "text": [
            "<class 'pandas.core.frame.DataFrame'>\n",
            "Int64Index: 315576 entries, 0 to 362805\n",
            "Data columns (total 9 columns):\n",
            " #   Column         Non-Null Count   Dtype \n",
            "---  ------         --------------   ----- \n",
            " 0   Age            315576 non-null  int64 \n",
            " 1   Condition      315576 non-null  int64 \n",
            " 2   Drug           315576 non-null  object\n",
            " 3   DrugId         315576 non-null  int64 \n",
            " 4   Effectiveness  315576 non-null  int64 \n",
            " 5   Reviews        315576 non-null  object\n",
            " 6   Satisfaction   315576 non-null  int64 \n",
            " 7   Sex            315576 non-null  int64 \n",
            " 8   Sides          315576 non-null  int64 \n",
            "dtypes: int64(7), object(2)\n",
            "memory usage: 24.1+ MB\n"
          ]
        }
      ]
    },
    {
      "cell_type": "code",
      "source": [
        "y = df['Sides']\n",
        "x = df.drop(['Sides','Satisfaction','Reviews','Drug'], axis=1)"
      ],
      "metadata": {
        "id": "bgeTZnwu5ylp"
      },
      "execution_count": null,
      "outputs": []
    },
    {
      "cell_type": "code",
      "source": [
        "#Standardization\n",
        "from sklearn import preprocessing\n",
        "standardisation=preprocessing.StandardScaler()\n",
        "x=standardisation.fit_transform(x)\n",
        "x = pd.DataFrame(x)"
      ],
      "metadata": {
        "id": "HJPZREbj56R5"
      },
      "execution_count": null,
      "outputs": []
    },
    {
      "cell_type": "code",
      "source": [
        "from sklearn.model_selection import train_test_split\n",
        "from sklearn import linear_model\n",
        "\n",
        "x_train,x_test,y_train,y_test=train_test_split(x,y,random_state=42,test_size=0.2)"
      ],
      "metadata": {
        "id": "7K86Tj5P6AYa"
      },
      "execution_count": null,
      "outputs": []
    },
    {
      "cell_type": "code",
      "source": [
        "#Decision Tree \n",
        "\n",
        "from sklearn.tree import DecisionTreeClassifier\n",
        "dt_model=DecisionTreeClassifier()\n",
        "dt_model.fit(x_train,y_train)\n",
        "y_pred=dt_model.predict(x_test)\n",
        "from sklearn.metrics import confusion_matrix,accuracy_score,recall_score, precision_score,f1_score\n",
        "print('accuracy is: ',round(accuracy_score(y_test,y_pred),4))\n",
        "print('Precision is: ',round(precision_score(y_test,y_pred,average='micro'),4))\n",
        "print('recall score is: ',round(recall_score(y_test,y_pred,average='micro'),4))\n",
        "print('f1 score is: ',round(f1_score(y_test,y_pred,average='micro'),4))"
      ],
      "metadata": {
        "colab": {
          "base_uri": "https://localhost:8080/"
        },
        "id": "JX3WqN0F6Fds",
        "outputId": "aef38e15-9c73-4359-8389-f44bf313238a"
      },
      "execution_count": null,
      "outputs": [
        {
          "output_type": "stream",
          "name": "stdout",
          "text": [
            "accuracy is:  0.9056\n",
            "Precision is:  0.9056\n",
            "recall score is:  0.9056\n",
            "f1 score is:  0.9056\n"
          ]
        }
      ]
    }
  ]
}