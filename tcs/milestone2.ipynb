{
 "cells": [
  {
   "cell_type": "markdown",
   "metadata": {},
   "source": [
    "# Model that Classifies the Side Effects of a Drug"
   ]
  },
  {
   "cell_type": "code",
   "execution_count": 1,
   "metadata": {},
   "outputs": [],
   "source": [
    "import pandas as pd\n",
    "import numpy as np\n",
    "import matplotlib.pyplot as plt\n",
    "import seaborn as sns\n",
    "import itertools\n",
    "import altair as alt\n"
   ]
  },
  {
   "cell_type": "markdown",
   "metadata": {},
   "source": [
    "### Creating and cleaning the dataset"
   ]
  },
  {
   "cell_type": "code",
   "execution_count": 2,
   "metadata": {},
   "outputs": [
    {
     "data": {
      "text/html": [
       "<div>\n",
       "<style scoped>\n",
       "    .dataframe tbody tr th:only-of-type {\n",
       "        vertical-align: middle;\n",
       "    }\n",
       "\n",
       "    .dataframe tbody tr th {\n",
       "        vertical-align: top;\n",
       "    }\n",
       "\n",
       "    .dataframe thead th {\n",
       "        text-align: right;\n",
       "    }\n",
       "</style>\n",
       "<table border=\"1\" class=\"dataframe\">\n",
       "  <thead>\n",
       "    <tr style=\"text-align: right;\">\n",
       "      <th></th>\n",
       "      <th>Age</th>\n",
       "      <th>Condition</th>\n",
       "      <th>Date</th>\n",
       "      <th>Drug</th>\n",
       "      <th>DrugId</th>\n",
       "      <th>EaseofUse</th>\n",
       "      <th>Effectiveness</th>\n",
       "      <th>Reviews</th>\n",
       "      <th>Satisfaction</th>\n",
       "      <th>Sex</th>\n",
       "      <th>Sides</th>\n",
       "      <th>UsefulCount</th>\n",
       "    </tr>\n",
       "  </thead>\n",
       "  <tbody>\n",
       "    <tr>\n",
       "      <th>0</th>\n",
       "      <td>75 or over</td>\n",
       "      <td>Stuffy Nose</td>\n",
       "      <td>9/21/2014</td>\n",
       "      <td>25dph-7.5peh</td>\n",
       "      <td>146724</td>\n",
       "      <td>5</td>\n",
       "      <td>5</td>\n",
       "      <td>I'm a retired physician and of all the meds I ...</td>\n",
       "      <td>5</td>\n",
       "      <td>Male</td>\n",
       "      <td>Drowsiness,  dizziness ,  dry mouth /nose/thro...</td>\n",
       "      <td>0</td>\n",
       "    </tr>\n",
       "    <tr>\n",
       "      <th>1</th>\n",
       "      <td>25-34</td>\n",
       "      <td>Cold Symptoms</td>\n",
       "      <td>1/13/2011</td>\n",
       "      <td>25dph-7.5peh</td>\n",
       "      <td>146724</td>\n",
       "      <td>5</td>\n",
       "      <td>5</td>\n",
       "      <td>cleared me right up even with my throat hurtin...</td>\n",
       "      <td>5</td>\n",
       "      <td>Female</td>\n",
       "      <td>Drowsiness,  dizziness ,  dry mouth /nose/thro...</td>\n",
       "      <td>1</td>\n",
       "    </tr>\n",
       "    <tr>\n",
       "      <th>2</th>\n",
       "      <td>65-74</td>\n",
       "      <td>Other</td>\n",
       "      <td>7/16/2012</td>\n",
       "      <td>warfarin (bulk) 100 % powder</td>\n",
       "      <td>144731</td>\n",
       "      <td>2</td>\n",
       "      <td>3</td>\n",
       "      <td>why did my PTINR go from a normal of 2.5 to ov...</td>\n",
       "      <td>3</td>\n",
       "      <td>Female</td>\n",
       "      <td></td>\n",
       "      <td>0</td>\n",
       "    </tr>\n",
       "    <tr>\n",
       "      <th>3</th>\n",
       "      <td>75 or over</td>\n",
       "      <td>Other</td>\n",
       "      <td>9/23/2010</td>\n",
       "      <td>warfarin (bulk) 100 % powder</td>\n",
       "      <td>144731</td>\n",
       "      <td>2</td>\n",
       "      <td>2</td>\n",
       "      <td>FALLING AND DON'T REALISE IT</td>\n",
       "      <td>1</td>\n",
       "      <td>Female</td>\n",
       "      <td></td>\n",
       "      <td>0</td>\n",
       "    </tr>\n",
       "    <tr>\n",
       "      <th>4</th>\n",
       "      <td>35-44</td>\n",
       "      <td>Other</td>\n",
       "      <td>1/6/2009</td>\n",
       "      <td>warfarin (bulk) 100 % powder</td>\n",
       "      <td>144731</td>\n",
       "      <td>1</td>\n",
       "      <td>1</td>\n",
       "      <td>My grandfather was prescribed this medication ...</td>\n",
       "      <td>1</td>\n",
       "      <td>Male</td>\n",
       "      <td></td>\n",
       "      <td>1</td>\n",
       "    </tr>\n",
       "    <tr>\n",
       "      <th>...</th>\n",
       "      <td>...</td>\n",
       "      <td>...</td>\n",
       "      <td>...</td>\n",
       "      <td>...</td>\n",
       "      <td>...</td>\n",
       "      <td>...</td>\n",
       "      <td>...</td>\n",
       "      <td>...</td>\n",
       "      <td>...</td>\n",
       "      <td>...</td>\n",
       "      <td>...</td>\n",
       "      <td>...</td>\n",
       "    </tr>\n",
       "    <tr>\n",
       "      <th>362801</th>\n",
       "      <td>55-64</td>\n",
       "      <td>Stop Smoking</td>\n",
       "      <td>11/14/2008</td>\n",
       "      <td>chantix</td>\n",
       "      <td>144470</td>\n",
       "      <td>5</td>\n",
       "      <td>5</td>\n",
       "      <td>I took the whole 12 weeks.I could have stopped...</td>\n",
       "      <td>5</td>\n",
       "      <td>Female</td>\n",
       "      <td>Nausea ,  headache ,  vomiting , drowsiness, g...</td>\n",
       "      <td>2</td>\n",
       "    </tr>\n",
       "    <tr>\n",
       "      <th>362802</th>\n",
       "      <td></td>\n",
       "      <td>Other</td>\n",
       "      <td>11/14/2008</td>\n",
       "      <td>chantix</td>\n",
       "      <td>144470</td>\n",
       "      <td>2</td>\n",
       "      <td>3</td>\n",
       "      <td>My dad strated taking Chantix about 1 month ag...</td>\n",
       "      <td>1</td>\n",
       "      <td></td>\n",
       "      <td>Nausea ,  headache ,  vomiting , drowsiness, g...</td>\n",
       "      <td>16</td>\n",
       "    </tr>\n",
       "    <tr>\n",
       "      <th>362803</th>\n",
       "      <td>25-34</td>\n",
       "      <td>Stop Smoking</td>\n",
       "      <td>11/13/2008</td>\n",
       "      <td>chantix</td>\n",
       "      <td>144470</td>\n",
       "      <td>2</td>\n",
       "      <td>4</td>\n",
       "      <td>As long as I was on chantix, I didn't smoke.  ...</td>\n",
       "      <td>2</td>\n",
       "      <td>Female</td>\n",
       "      <td>Nausea ,  headache ,  vomiting , drowsiness, g...</td>\n",
       "      <td>3</td>\n",
       "    </tr>\n",
       "    <tr>\n",
       "      <th>362804</th>\n",
       "      <td>55-64</td>\n",
       "      <td>Stop Smoking</td>\n",
       "      <td>11/13/2008</td>\n",
       "      <td>chantix</td>\n",
       "      <td>144470</td>\n",
       "      <td>5</td>\n",
       "      <td>5</td>\n",
       "      <td>Started this medication Oct 5th 2008. Haven't ...</td>\n",
       "      <td>5</td>\n",
       "      <td>Male</td>\n",
       "      <td>Nausea ,  headache ,  vomiting , drowsiness, g...</td>\n",
       "      <td>1</td>\n",
       "    </tr>\n",
       "    <tr>\n",
       "      <th>362805</th>\n",
       "      <td>45-54</td>\n",
       "      <td>Stop Smoking</td>\n",
       "      <td>11/12/2008</td>\n",
       "      <td>chantix</td>\n",
       "      <td>144470</td>\n",
       "      <td>4</td>\n",
       "      <td>5</td>\n",
       "      <td>One year ago, I tried Chantix and had to stop ...</td>\n",
       "      <td>5</td>\n",
       "      <td>Female</td>\n",
       "      <td>Nausea ,  headache ,  vomiting , drowsiness, g...</td>\n",
       "      <td>3</td>\n",
       "    </tr>\n",
       "  </tbody>\n",
       "</table>\n",
       "<p>362806 rows × 12 columns</p>\n",
       "</div>"
      ],
      "text/plain": [
       "               Age      Condition        Date                          Drug  \\\n",
       "0       75 or over    Stuffy Nose   9/21/2014                  25dph-7.5peh   \n",
       "1            25-34  Cold Symptoms   1/13/2011                  25dph-7.5peh   \n",
       "2            65-74          Other   7/16/2012  warfarin (bulk) 100 % powder   \n",
       "3       75 or over          Other   9/23/2010  warfarin (bulk) 100 % powder   \n",
       "4            35-44          Other    1/6/2009  warfarin (bulk) 100 % powder   \n",
       "...            ...            ...         ...                           ...   \n",
       "362801       55-64   Stop Smoking  11/14/2008                       chantix   \n",
       "362802                      Other  11/14/2008                       chantix   \n",
       "362803       25-34   Stop Smoking  11/13/2008                       chantix   \n",
       "362804       55-64   Stop Smoking  11/13/2008                       chantix   \n",
       "362805       45-54   Stop Smoking  11/12/2008                       chantix   \n",
       "\n",
       "        DrugId  EaseofUse  Effectiveness  \\\n",
       "0       146724          5              5   \n",
       "1       146724          5              5   \n",
       "2       144731          2              3   \n",
       "3       144731          2              2   \n",
       "4       144731          1              1   \n",
       "...        ...        ...            ...   \n",
       "362801  144470          5              5   \n",
       "362802  144470          2              3   \n",
       "362803  144470          2              4   \n",
       "362804  144470          5              5   \n",
       "362805  144470          4              5   \n",
       "\n",
       "                                                  Reviews  Satisfaction  \\\n",
       "0       I'm a retired physician and of all the meds I ...             5   \n",
       "1       cleared me right up even with my throat hurtin...             5   \n",
       "2       why did my PTINR go from a normal of 2.5 to ov...             3   \n",
       "3                            FALLING AND DON'T REALISE IT             1   \n",
       "4       My grandfather was prescribed this medication ...             1   \n",
       "...                                                   ...           ...   \n",
       "362801  I took the whole 12 weeks.I could have stopped...             5   \n",
       "362802  My dad strated taking Chantix about 1 month ag...             1   \n",
       "362803  As long as I was on chantix, I didn't smoke.  ...             2   \n",
       "362804  Started this medication Oct 5th 2008. Haven't ...             5   \n",
       "362805  One year ago, I tried Chantix and had to stop ...             5   \n",
       "\n",
       "           Sex                                              Sides  UsefulCount  \n",
       "0         Male  Drowsiness,  dizziness ,  dry mouth /nose/thro...            0  \n",
       "1       Female  Drowsiness,  dizziness ,  dry mouth /nose/thro...            1  \n",
       "2       Female                                                               0  \n",
       "3       Female                                                               0  \n",
       "4         Male                                                               1  \n",
       "...        ...                                                ...          ...  \n",
       "362801  Female  Nausea ,  headache ,  vomiting , drowsiness, g...            2  \n",
       "362802          Nausea ,  headache ,  vomiting , drowsiness, g...           16  \n",
       "362803  Female  Nausea ,  headache ,  vomiting , drowsiness, g...            3  \n",
       "362804    Male  Nausea ,  headache ,  vomiting , drowsiness, g...            1  \n",
       "362805  Female  Nausea ,  headache ,  vomiting , drowsiness, g...            3  \n",
       "\n",
       "[362806 rows x 12 columns]"
      ]
     },
     "execution_count": 2,
     "metadata": {},
     "output_type": "execute_result"
    }
   ],
   "source": [
    "df = pd.read_csv('webmd.csv')\n",
    "df"
   ]
  },
  {
   "cell_type": "code",
   "execution_count": 3,
   "metadata": {},
   "outputs": [
    {
     "data": {
      "text/plain": [
       "Age               0\n",
       "Condition         0\n",
       "Date              0\n",
       "Drug              0\n",
       "DrugId            0\n",
       "EaseofUse         0\n",
       "Effectiveness     0\n",
       "Reviews          37\n",
       "Satisfaction      0\n",
       "Sex               0\n",
       "Sides             0\n",
       "UsefulCount       0\n",
       "dtype: int64"
      ]
     },
     "execution_count": 3,
     "metadata": {},
     "output_type": "execute_result"
    }
   ],
   "source": [
    "df.isna().sum()"
   ]
  },
  {
   "cell_type": "code",
   "execution_count": 4,
   "metadata": {},
   "outputs": [],
   "source": [
    "df.drop(['Date','UsefulCount','EaseofUse'], axis=1, inplace = True)"
   ]
  },
  {
   "cell_type": "markdown",
   "metadata": {},
   "source": [
    "Some columns are dropped based on their usability in the project scenario. Columns with values having similarity with other columns are also removed to avoid repetition."
   ]
  },
  {
   "cell_type": "code",
   "execution_count": 5,
   "metadata": {},
   "outputs": [
    {
     "data": {
      "text/plain": [
       "5     111550\n",
       "1     100901\n",
       "4      63158\n",
       "3      51852\n",
       "2      35342\n",
       "6          2\n",
       "10         1\n",
       "Name: Satisfaction, dtype: int64"
      ]
     },
     "execution_count": 5,
     "metadata": {},
     "output_type": "execute_result"
    }
   ],
   "source": [
    "df['Satisfaction'].value_counts()"
   ]
  },
  {
   "cell_type": "code",
   "execution_count": 6,
   "metadata": {},
   "outputs": [
    {
     "data": {
      "text/plain": [
       "Female    238226\n",
       "Male       98043\n",
       "           26537\n",
       "Name: Sex, dtype: int64"
      ]
     },
     "execution_count": 6,
     "metadata": {},
     "output_type": "execute_result"
    }
   ],
   "source": [
    "df['Sex'].value_counts()"
   ]
  },
  {
   "cell_type": "code",
   "execution_count": 7,
   "metadata": {},
   "outputs": [
    {
     "data": {
      "text/plain": [
       "45-54         80043\n",
       "55-64         75136\n",
       "35-44         55011\n",
       "25-34         49718\n",
       "65-74         41216\n",
       "19-24         24230\n",
       "75 or over    15226\n",
       "              12202\n",
       "13-18          7045\n",
       "7-12           1644\n",
       "3-6             838\n",
       "0-2             497\n",
       "Name: Age, dtype: int64"
      ]
     },
     "execution_count": 7,
     "metadata": {},
     "output_type": "execute_result"
    }
   ],
   "source": [
    "df['Age'].value_counts()"
   ]
  },
  {
   "cell_type": "code",
   "execution_count": 8,
   "metadata": {},
   "outputs": [],
   "source": [
    "for col in df.columns:\n",
    "    if df[col].dtype.kind == \"O\":\n",
    "        df[col] = df[col].str.strip()"
   ]
  },
  {
   "cell_type": "code",
   "execution_count": 9,
   "metadata": {},
   "outputs": [],
   "source": [
    "df['Sex'].replace('', np.nan, inplace=True)\n",
    "df['Age'].replace('', np.nan, inplace=True)\n",
    "df['Sides'].replace('', np.nan, inplace=True)\n",
    "df['Condition'].replace('', np.nan, inplace=True)"
   ]
  },
  {
   "cell_type": "markdown",
   "metadata": {},
   "source": [
    "As seen above some columns have missing data or empty spaces which are considered empty characters by the program but not helpful in analysis and may cause deviations in the final result. Such data are converted to null type and removed from the dataset to get a better analysis of data."
   ]
  },
  {
   "cell_type": "code",
   "execution_count": 10,
   "metadata": {},
   "outputs": [],
   "source": [
    "df = df.dropna()"
   ]
  },
  {
   "cell_type": "code",
   "execution_count": 11,
   "metadata": {},
   "outputs": [
    {
     "name": "stdout",
     "output_type": "stream",
     "text": [
      "<class 'pandas.core.frame.DataFrame'>\n",
      "Int64Index: 315578 entries, 0 to 362805\n",
      "Data columns (total 9 columns):\n",
      " #   Column         Non-Null Count   Dtype \n",
      "---  ------         --------------   ----- \n",
      " 0   Age            315578 non-null  object\n",
      " 1   Condition      315578 non-null  object\n",
      " 2   Drug           315578 non-null  object\n",
      " 3   DrugId         315578 non-null  int64 \n",
      " 4   Effectiveness  315578 non-null  int64 \n",
      " 5   Reviews        315578 non-null  object\n",
      " 6   Satisfaction   315578 non-null  int64 \n",
      " 7   Sex            315578 non-null  object\n",
      " 8   Sides          315578 non-null  object\n",
      "dtypes: int64(3), object(6)\n",
      "memory usage: 24.1+ MB\n"
     ]
    }
   ],
   "source": [
    "df.info()"
   ]
  },
  {
   "cell_type": "code",
   "execution_count": 12,
   "metadata": {},
   "outputs": [
    {
     "data": {
      "text/plain": [
       "Age                  11\n",
       "Condition          1639\n",
       "Drug               5278\n",
       "DrugId             4771\n",
       "Effectiveness         6\n",
       "Reviews          216182\n",
       "Satisfaction          6\n",
       "Sex                   2\n",
       "Sides              1616\n",
       "dtype: int64"
      ]
     },
     "execution_count": 12,
     "metadata": {},
     "output_type": "execute_result"
    }
   ],
   "source": [
    "df.nunique()"
   ]
  },
  {
   "cell_type": "code",
   "execution_count": 13,
   "metadata": {},
   "outputs": [
    {
     "name": "stdout",
     "output_type": "stream",
     "text": [
      "    167493: ['lynparza tablet', 'lynparza']\n",
      "      7286: ['loteprednol etabonate ointment', 'loteprednol etabonate drops, gel']\n",
      "      7319: ['lotemax ointment', 'lotemax drops, gel']\n",
      "    164437: ['lorcaserin tablet', 'lorcaserin tablet, extended release 24 hr']\n",
      "      8892: ['lorazepam', 'lorazepam concentrate']\n",
      "     76548: ['loratadine-d', 'loratadine d']\n",
      "        73: ['loratadine tablet,disintegrating', 'loratadine']\n",
      "      8555: ['loprox suspension, topical', 'loprox cream']\n",
      "      4789: ['loperamide', 'loperamide liquid']\n",
      "      5887: ['lithium carbonate er', 'lithium carbonate']\n"
     ]
    }
   ],
   "source": [
    "drugs = {}\n",
    "for drugid, drug in df[[\"DrugId\", \"Drug\"]].itertuples(index=False):\n",
    "    drugs.setdefault(drugid, set()).add(drug)\n",
    "drugs = {k:list(v) for k,v in drugs.items()}\n",
    "\n",
    "drugs_with_more_names = {k:list(v) for k,v in drugs.items() if len(v) > 1}\n",
    "for k,v in dict(itertools.islice(drugs_with_more_names.items(), 10)).items():\n",
    "    print(f\"{k:10}: {list(v)[:2]}\")"
   ]
  },
  {
   "cell_type": "markdown",
   "metadata": {},
   "source": [
    "Drug column has a corresponding encoded DrugID column but it is noticed that different drug names have the same DrugID. Upon closer inspection it is found that Drug names with same DrugID are simply different variations of the same drug like cream/tablet/liquid of the same drug."
   ]
  },
  {
   "cell_type": "markdown",
   "metadata": {},
   "source": [
    "### EDA"
   ]
  },
  {
   "cell_type": "code",
   "execution_count": 14,
   "metadata": {},
   "outputs": [
    {
     "data": {
      "image/png": "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",
      "text/plain": [
       "<Figure size 432x288 with 1 Axes>"
      ]
     },
     "metadata": {
      "needs_background": "light"
     },
     "output_type": "display_data"
    }
   ],
   "source": [
    "plt.boxplot(df['Satisfaction'])\n",
    "plt.title(\"Boxplot of Satisfaction\")\n",
    "plt.show()"
   ]
  },
  {
   "cell_type": "code",
   "execution_count": 15,
   "metadata": {},
   "outputs": [
    {
     "data": {
      "text/plain": [
       "Int64Index([195073, 195282], dtype='int64')"
      ]
     },
     "execution_count": 15,
     "metadata": {},
     "output_type": "execute_result"
    }
   ],
   "source": [
    "index_values = df[(df['Satisfaction'] > 5)].index\n",
    "index_values"
   ]
  },
  {
   "cell_type": "code",
   "execution_count": 16,
   "metadata": {},
   "outputs": [
    {
     "name": "stderr",
     "output_type": "stream",
     "text": [
      "/home/tomsbastin97/anaconda3/lib/python3.8/site-packages/pandas/core/frame.py:4906: SettingWithCopyWarning: \n",
      "A value is trying to be set on a copy of a slice from a DataFrame\n",
      "\n",
      "See the caveats in the documentation: https://pandas.pydata.org/pandas-docs/stable/user_guide/indexing.html#returning-a-view-versus-a-copy\n",
      "  return super().drop(\n"
     ]
    }
   ],
   "source": [
    "df.drop([195073, 195282], axis=0, inplace=True)"
   ]
  },
  {
   "cell_type": "code",
   "execution_count": 17,
   "metadata": {},
   "outputs": [
    {
     "name": "stderr",
     "output_type": "stream",
     "text": [
      "/tmp/ipykernel_5990/2081555519.py:4: SettingWithCopyWarning: \n",
      "A value is trying to be set on a copy of a slice from a DataFrame.\n",
      "Try using .loc[row_indexer,col_indexer] = value instead\n",
      "\n",
      "See the caveats in the documentation: https://pandas.pydata.org/pandas-docs/stable/user_guide/indexing.html#returning-a-view-versus-a-copy\n",
      "  df[\"Satisfaction\"] = df[\"Satisfaction\"].apply(relabel)\n"
     ]
    }
   ],
   "source": [
    "def relabel(x):\n",
    "    return 0 if x < 3 else 1 if x == 3 else 2\n",
    "\n",
    "df[\"Satisfaction\"] = df[\"Satisfaction\"].apply(relabel)"
   ]
  },
  {
   "cell_type": "markdown",
   "metadata": {},
   "source": [
    "simplifying the categories and group them as follows:\n",
    "\n",
    "Satisfaction 1 and 2 → 0 (Negative)\n",
    "\n",
    "Satisfaction 3       → 1 (Neutral)\n",
    "\n",
    "Satisfaction 4 and 5 → 2 (Positive)"
   ]
  },
  {
   "cell_type": "code",
   "execution_count": 18,
   "metadata": {},
   "outputs": [
    {
     "data": {
      "text/html": [
       "\n",
       "<div id=\"altair-viz-ff229a0aa1574378a78341f44cce0c87\"></div>\n",
       "<script type=\"text/javascript\">\n",
       "  var VEGA_DEBUG = (typeof VEGA_DEBUG == \"undefined\") ? {} : VEGA_DEBUG;\n",
       "  (function(spec, embedOpt){\n",
       "    let outputDiv = document.currentScript.previousElementSibling;\n",
       "    if (outputDiv.id !== \"altair-viz-ff229a0aa1574378a78341f44cce0c87\") {\n",
       "      outputDiv = document.getElementById(\"altair-viz-ff229a0aa1574378a78341f44cce0c87\");\n",
       "    }\n",
       "    const paths = {\n",
       "      \"vega\": \"https://cdn.jsdelivr.net/npm//vega@5?noext\",\n",
       "      \"vega-lib\": \"https://cdn.jsdelivr.net/npm//vega-lib?noext\",\n",
       "      \"vega-lite\": \"https://cdn.jsdelivr.net/npm//vega-lite@4.17.0?noext\",\n",
       "      \"vega-embed\": \"https://cdn.jsdelivr.net/npm//vega-embed@6?noext\",\n",
       "    };\n",
       "\n",
       "    function maybeLoadScript(lib, version) {\n",
       "      var key = `${lib.replace(\"-\", \"\")}_version`;\n",
       "      return (VEGA_DEBUG[key] == version) ?\n",
       "        Promise.resolve(paths[lib]) :\n",
       "        new Promise(function(resolve, reject) {\n",
       "          var s = document.createElement('script');\n",
       "          document.getElementsByTagName(\"head\")[0].appendChild(s);\n",
       "          s.async = true;\n",
       "          s.onload = () => {\n",
       "            VEGA_DEBUG[key] = version;\n",
       "            return resolve(paths[lib]);\n",
       "          };\n",
       "          s.onerror = () => reject(`Error loading script: ${paths[lib]}`);\n",
       "          s.src = paths[lib];\n",
       "        });\n",
       "    }\n",
       "\n",
       "    function showError(err) {\n",
       "      outputDiv.innerHTML = `<div class=\"error\" style=\"color:red;\">${err}</div>`;\n",
       "      throw err;\n",
       "    }\n",
       "\n",
       "    function displayChart(vegaEmbed) {\n",
       "      vegaEmbed(outputDiv, spec, embedOpt)\n",
       "        .catch(err => showError(`Javascript Error: ${err.message}<br>This usually means there's a typo in your chart specification. See the javascript console for the full traceback.`));\n",
       "    }\n",
       "\n",
       "    if(typeof define === \"function\" && define.amd) {\n",
       "      requirejs.config({paths});\n",
       "      require([\"vega-embed\"], displayChart, err => showError(`Error loading script: ${err.message}`));\n",
       "    } else {\n",
       "      maybeLoadScript(\"vega\", \"5\")\n",
       "        .then(() => maybeLoadScript(\"vega-lite\", \"4.17.0\"))\n",
       "        .then(() => maybeLoadScript(\"vega-embed\", \"6\"))\n",
       "        .catch(showError)\n",
       "        .then(() => displayChart(vegaEmbed));\n",
       "    }\n",
       "  })({\"config\": {\"view\": {\"continuousWidth\": 400, \"continuousHeight\": 300, \"strokeWidth\": 0}, \"axis\": {\"grid\": true, \"gridOpacity\": 0.15, \"labelAngle\": 0, \"labelColor\": \"white\", \"labelOpacity\": 0.7, \"tickOffset\": 0, \"titleColor\": \"white\", \"titleFontSize\": 13, \"titleOpacity\": 0.8, \"titlePadding\": 20}, \"background\": \"#11043a\", \"legend\": {\"labelColor\": \"white\", \"labelOpacity\": 0.7, \"tickCount\": 10, \"titleColor\": \"white\", \"titleFontSize\": 12, \"titleOpacity\": 0.8, \"titlePadding\": 10}, \"title\": {\"color\": \"#e6f3ff\", \"dy\": -10, \"font\": \"Arial\", \"fontSize\": 18}}, \"layer\": [{\"mark\": {\"type\": \"bar\", \"size\": 40, \"stroke\": \"white\", \"strokeWidth\": 0.5}, \"encoding\": {\"color\": {\"field\": \"Satisfaction\", \"scale\": {\"bins\": [0, 1, 2, 3], \"reverse\": false, \"scheme\": \"lightgreyteal\"}, \"type\": \"quantitative\"}, \"order\": {\"field\": \"Satisfaction\", \"sort\": \"ascending\", \"type\": \"quantitative\"}, \"x\": {\"axis\": {\"grid\": false, \"title\": \"Age groups\"}, \"field\": \"Age\", \"type\": \"ordinal\"}, \"y\": {\"axis\": {\"title\": \"num of reviews\"}, \"field\": \"Reviews\", \"scale\": {\"type\": \"linear\"}, \"stack\": \"zero\", \"type\": \"quantitative\"}}, \"title\": \"Distribution of Reviews Over Age\"}], \"data\": {\"name\": \"data-e81723af8f2197af0707fd97b4e9c353\"}, \"height\": 300, \"width\": 700, \"$schema\": \"https://vega.github.io/schema/vega-lite/v4.17.0.json\", \"datasets\": {\"data-e81723af8f2197af0707fd97b4e9c353\": [{\"Age\": \"0-2\", \"Satisfaction\": 0, \"Reviews\": 213}, {\"Age\": \"0-2\", \"Satisfaction\": 1, \"Reviews\": 42}, {\"Age\": \"0-2\", \"Satisfaction\": 2, \"Reviews\": 175}, {\"Age\": \"13-18\", \"Satisfaction\": 0, \"Reviews\": 2756}, {\"Age\": \"13-18\", \"Satisfaction\": 1, \"Reviews\": 1000}, {\"Age\": \"13-18\", \"Satisfaction\": 2, \"Reviews\": 2774}, {\"Age\": \"19-24\", \"Satisfaction\": 0, \"Reviews\": 9036}, {\"Age\": \"19-24\", \"Satisfaction\": 1, \"Reviews\": 3101}, {\"Age\": \"19-24\", \"Satisfaction\": 2, \"Reviews\": 10483}, {\"Age\": \"25-34\", \"Satisfaction\": 0, \"Reviews\": 17491}, {\"Age\": \"25-34\", \"Satisfaction\": 1, \"Reviews\": 6643}, {\"Age\": \"25-34\", \"Satisfaction\": 2, \"Reviews\": 22500}, {\"Age\": \"3-6\", \"Satisfaction\": 0, \"Reviews\": 315}, {\"Age\": \"3-6\", \"Satisfaction\": 1, \"Reviews\": 108}, {\"Age\": \"3-6\", \"Satisfaction\": 2, \"Reviews\": 310}, {\"Age\": \"35-44\", \"Satisfaction\": 0, \"Reviews\": 17631}, {\"Age\": \"35-44\", \"Satisfaction\": 1, \"Reviews\": 7329}, {\"Age\": \"35-44\", \"Satisfaction\": 2, \"Reviews\": 25904}, {\"Age\": \"45-54\", \"Satisfaction\": 0, \"Reviews\": 25395}, {\"Age\": \"45-54\", \"Satisfaction\": 1, \"Reviews\": 10611}, {\"Age\": \"45-54\", \"Satisfaction\": 2, \"Reviews\": 36359}, {\"Age\": \"55-64\", \"Satisfaction\": 0, \"Reviews\": 24208}, {\"Age\": \"55-64\", \"Satisfaction\": 1, \"Reviews\": 9394}, {\"Age\": \"55-64\", \"Satisfaction\": 2, \"Reviews\": 31927}, {\"Age\": \"65-74\", \"Satisfaction\": 0, \"Reviews\": 13332}, {\"Age\": \"65-74\", \"Satisfaction\": 1, \"Reviews\": 5116}, {\"Age\": \"65-74\", \"Satisfaction\": 2, \"Reviews\": 16690}, {\"Age\": \"7-12\", \"Satisfaction\": 0, \"Reviews\": 655}, {\"Age\": \"7-12\", \"Satisfaction\": 1, \"Reviews\": 211}, {\"Age\": \"7-12\", \"Satisfaction\": 2, \"Reviews\": 654}, {\"Age\": \"75 or over\", \"Satisfaction\": 0, \"Reviews\": 5157}, {\"Age\": \"75 or over\", \"Satisfaction\": 1, \"Reviews\": 2198}, {\"Age\": \"75 or over\", \"Satisfaction\": 2, \"Reviews\": 5858}]}}, {\"mode\": \"vega-lite\"});\n",
       "</script>"
      ],
      "text/plain": [
       "alt.LayerChart(...)"
      ]
     },
     "execution_count": 18,
     "metadata": {},
     "output_type": "execute_result"
    }
   ],
   "source": [
    "data = (df.groupby([\"Age\", \"Satisfaction\"])\n",
    "          .agg({\"Reviews\": \"count\"})\n",
    "          .reset_index()).sort_values([\"Age\", \"Satisfaction\"], ascending=True)\n",
    "#data['Cumulative_Reviews'] = data.groupby(['Age'])['Reviews'].apply(lambda x: x.cumsum())\n",
    "\n",
    "bars = (alt.Chart(data=data, title=\"Distribution of Reviews Over Age\")\n",
    "           .mark_bar(size=40,\n",
    "                     strokeWidth=0.5,\n",
    "                     stroke=\"white\")\n",
    "           .encode(x=alt.X('Age:O',\n",
    "                           axis=alt.Axis(title=\"Age groups\", grid=False)),\n",
    "                   y=alt.Y('Reviews:Q', stack='zero',\n",
    "                           scale=alt.Scale(type=\"linear\"),\n",
    "                           axis=alt.Axis(title=\"num of reviews\")),\n",
    "                   order=alt.Order('Satisfaction', sort='ascending'),\n",
    "                   color=alt.Color(\"Satisfaction:Q\",\n",
    "                                   scale=alt.Scale(scheme=\"lightgreyteal\",\n",
    "                                                   bins=[0,1,2,3],\n",
    "                                                   reverse=False))))\n",
    "                   \n",
    "chart = (alt.layer(bars)\n",
    "            .configure(background=\"#11043a\")\n",
    "            .configure_title(font=\"Arial\",\n",
    "                             fontSize=18,\n",
    "                             color=\"#e6f3ff\",\n",
    "                             dy=-10)\n",
    "            .configure_legend(titleFontSize=12,\n",
    "                              titleColor=\"white\",\n",
    "                              tickCount=10,\n",
    "                              titleOpacity=0.8,\n",
    "                              labelColor=\"white\",\n",
    "                              labelOpacity=0.7,\n",
    "                              titlePadding=10)\n",
    "            .configure_axis(titleFontSize=13,\n",
    "                            titlePadding=20,\n",
    "                            titleColor=\"white\",\n",
    "                            titleOpacity=0.8,\n",
    "                            labelColor=\"white\",\n",
    "                            labelOpacity=0.7,\n",
    "                            labelAngle=0,\n",
    "                            tickOffset=0,\n",
    "                            grid=True,\n",
    "                            gridOpacity=0.15)\n",
    "            .configure_view(strokeWidth=0)\n",
    "            .properties(height=300, width=700)\n",
    ")\n",
    "chart"
   ]
  },
  {
   "cell_type": "code",
   "execution_count": 19,
   "metadata": {},
   "outputs": [![Screenshot](visualization.png)
    {
     "data": {
      "text/html": [
       "<div>\n",
       "<style scoped>\n",
       "    .dataframe tbody tr th:only-of-type {\n",
       "        vertical-align: middle;\n",
       "    }\n",
       "\n",
       "    .dataframe tbody tr th {\n",
       "        vertical-align: top;\n",
       "    }\n",
       "\n",
       "    .dataframe thead th {\n",
       "        text-align: right;\n",
       "    }\n",
       "</style>\n",
       "<table border=\"1\" class=\"dataframe\">\n",
       "  <thead>\n",
       "    <tr style=\"text-align: right;\">\n",
       "      <th>Effectiveness</th>\n",
       "      <th>1</th>\n",
       "      <th>2</th>\n",
       "      <th>3</th>\n",
       "      <th>4</th>\n",
       "      <th>5</th>\n",
       "    </tr>\n",
       "    <tr>\n",
       "      <th>Age</th>\n",
       "      <th></th>\n",
       "      <th></th>\n",
       "      <th></th>\n",
       "      <th></th>\n",
       "      <th></th>\n",
       "    </tr>\n",
       "  </thead>\n",
       "  <tbody>\n",
       "    <tr>\n",
       "      <th>0-2</th>\n",
       "      <td>95</td>\n",
       "      <td>38</td>\n",
       "      <td>85</td>\n",
       "      <td>86</td>\n",
       "      <td>126</td>\n",
       "    </tr>\n",
       "    <tr>\n",
       "      <th>13-18</th>\n",
       "      <td>1074</td>\n",
       "      <td>628</td>\n",
       "      <td>1039</td>\n",
       "      <td>1543</td>\n",
       "      <td>2246</td>\n",
       "    </tr>\n",
       "    <tr>\n",
       "      <th>19-24</th>\n",
       "      <td>3151</td>\n",
       "      <td>1641</td>\n",
       "      <td>3290</td>\n",
       "      <td>5182</td>\n",
       "      <td>9356</td>\n",
       "    </tr>\n",
       "    <tr>\n",
       "      <th>25-34</th>\n",
       "      <td>6849</td>\n",
       "      <td>3442</td>\n",
       "      <td>7296</td>\n",
       "      <td>10763</td>\n",
       "      <td>18284</td>\n",
       "    </tr>\n",
       "    <tr>\n",
       "      <th>3-6</th>\n",
       "      <td>166</td>\n",
       "      <td>85</td>\n",
       "      <td>119</td>\n",
       "      <td>148</td>\n",
       "      <td>215</td>\n",
       "    </tr>\n",
       "    <tr>\n",
       "      <th>35-44</th>\n",
       "      <td>7749</td>\n",
       "      <td>4002</td>\n",
       "      <td>8353</td>\n",
       "      <td>11652</td>\n",
       "      <td>19108</td>\n",
       "    </tr>\n",
       "    <tr>\n",
       "      <th>45-54</th>\n",
       "      <td>11309</td>\n",
       "      <td>6142</td>\n",
       "      <td>11987</td>\n",
       "      <td>16947</td>\n",
       "      <td>25980</td>\n",
       "    </tr>\n",
       "    <tr>\n",
       "      <th>55-64</th>\n",
       "      <td>10700</td>\n",
       "      <td>5822</td>\n",
       "      <td>11275</td>\n",
       "      <td>14986</td>\n",
       "      <td>22746</td>\n",
       "    </tr>\n",
       "    <tr>\n",
       "      <th>65-74</th>\n",
       "      <td>5879</td>\n",
       "      <td>3431</td>\n",
       "      <td>6291</td>\n",
       "      <td>7926</td>\n",
       "      <td>11611</td>\n",
       "    </tr>\n",
       "    <tr>\n",
       "      <th>7-12</th>\n",
       "      <td>308</td>\n",
       "      <td>151</td>\n",
       "      <td>300</td>\n",
       "      <td>325</td>\n",
       "      <td>436</td>\n",
       "    </tr>\n",
       "    <tr>\n",
       "      <th>75 or over</th>\n",
       "      <td>2465</td>\n",
       "      <td>1337</td>\n",
       "      <td>2718</td>\n",
       "      <td>3066</td>\n",
       "      <td>3627</td>\n",
       "    </tr>\n",
       "  </tbody>\n",
       "</table>\n",
       "</div>"
      ],
      "text/plain": [
       "Effectiveness      1     2      3      4      5\n",
       "Age                                            \n",
       "0-2               95    38     85     86    126\n",
       "13-18           1074   628   1039   1543   2246\n",
       "19-24           3151  1641   3290   5182   9356\n",
       "25-34           6849  3442   7296  10763  18284\n",
       "3-6              166    85    119    148    215\n",
       "35-44           7749  4002   8353  11652  19108\n",
       "45-54          11309  6142  11987  16947  25980\n",
       "55-64          10700  5822  11275  14986  22746\n",
       "65-74           5879  3431   6291   7926  11611\n",
       "7-12             308   151    300    325    436\n",
       "75 or over      2465  1337   2718   3066   3627"
      ]
     },
     "execution_count": 19,
     "metadata": {},
     "output_type": "execute_result"
    }
   ],
   "source": [
    "pd.crosstab(df['Age'],df['Effectiveness'])"
   ]
  },
  {
   "cell_type": "code",
   "execution_count": 20,
   "metadata": {},
   "outputs": [
    {
     "data": {
      "image/png": "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",
      "text/plain": [
       "<Figure size 1440x1440 with 1 Axes>"
      ]
     },
     "metadata": {},
     "output_type": "display_data"
    }
   ],
   "source": [
    "plt.figure(figsize=(20,20))\n",
    "l=df['Age'].value_counts().nlargest(10)\n",
    "plt.pie(l,labels=l.index,shadow=True, textprops={'fontsize': 10},autopct='%1.2f%%')\n",
    "plt.show()"
   ]
  },
  {
   "cell_type": "markdown",
   "metadata": {},
   "source": [
    "### Encoding"
   ]
  },
  {
   "cell_type": "code",
   "execution_count": 21,
   "metadata": {},
   "outputs": [
    {
     "name": "stdout",
     "output_type": "stream",
     "text": [
      "0                              Stuffy Nose\n",
      "1                            Cold Symptoms\n",
      "6                            Birth Control\n",
      "7            Disease of Ovaries with Cysts\n",
      "8                                     Acne\n",
      "                        ...               \n",
      "360515            Medullary Thyroid Cancer\n",
      "360680                Inadequate Vitamin C\n",
      "361078       Hiccups that are Hard to Cure\n",
      "361112    Combative and Explosive Behavior\n",
      "361545                      Lead Poisoning\n",
      "Name: Condition, Length: 1639, dtype: object\n"
     ]
    },
    {
     "name": "stderr",
     "output_type": "stream",
     "text": [
      "/tmp/ipykernel_5990/1556427306.py:5: SettingWithCopyWarning: \n",
      "A value is trying to be set on a copy of a slice from a DataFrame.\n",
      "Try using .loc[row_indexer,col_indexer] = value instead\n",
      "\n",
      "See the caveats in the documentation: https://pandas.pydata.org/pandas-docs/stable/user_guide/indexing.html#returning-a-view-versus-a-copy\n",
      "  df[a[i]] = LabelEncoder().fit_transform(df[a[i]])\n"
     ]
    }
   ],
   "source": [
    "from sklearn.preprocessing import LabelEncoder\n",
    "a=['Condition']\n",
    "for i in np.arange(len(a)):\n",
    "    print(df[a[i]].drop_duplicates())\n",
    "    df[a[i]] = LabelEncoder().fit_transform(df[a[i]])"
   ]
  },
  {
   "cell_type": "code",
   "execution_count": 22,
   "metadata": {},
   "outputs": [
    {
     "name": "stdout",
     "output_type": "stream",
     "text": [
      "0       75 or over\n",
      "1            25-34\n",
      "7            45-54\n",
      "9            55-64\n",
      "13           19-24\n",
      "26           35-44\n",
      "55           13-18\n",
      "122          65-74\n",
      "3254          7-12\n",
      "4682           0-2\n",
      "4730           3-6\n",
      "Name: Age, dtype: object\n"
     ]
    },
    {
     "name": "stderr",
     "output_type": "stream",
     "text": [
      "/tmp/ipykernel_5990/1925409623.py:4: SettingWithCopyWarning: \n",
      "A value is trying to be set on a copy of a slice from a DataFrame.\n",
      "Try using .loc[row_indexer,col_indexer] = value instead\n",
      "\n",
      "See the caveats in the documentation: https://pandas.pydata.org/pandas-docs/stable/user_guide/indexing.html#returning-a-view-versus-a-copy\n",
      "  df[a[i]] = LabelEncoder().fit_transform(df[a[i]])\n"
     ]
    }
   ],
   "source": [
    "a=['Age']\n",
    "for i in np.arange(len(a)):\n",
    "    print(df[a[i]].drop_duplicates())\n",
    "    df[a[i]] = LabelEncoder().fit_transform(df[a[i]])"
   ]
  },
  {
   "cell_type": "code",
   "execution_count": 23,
   "metadata": {},
   "outputs": [
    {
     "name": "stdout",
     "output_type": "stream",
     "text": [
      "0      Male\n",
      "1    Female\n",
      "Name: Sex, dtype: object\n"
     ]
    },
    {
     "name": "stderr",
     "output_type": "stream",
     "text": [
      "/tmp/ipykernel_5990/924573008.py:4: SettingWithCopyWarning: \n",
      "A value is trying to be set on a copy of a slice from a DataFrame.\n",
      "Try using .loc[row_indexer,col_indexer] = value instead\n",
      "\n",
      "See the caveats in the documentation: https://pandas.pydata.org/pandas-docs/stable/user_guide/indexing.html#returning-a-view-versus-a-copy\n",
      "  df[a[i]] = LabelEncoder().fit_transform(df[a[i]])\n"
     ]
    }
   ],
   "source": [
    "a=['Sex']\n",
    "for i in np.arange(len(a)):\n",
    "    print(df[a[i]].drop_duplicates())\n",
    "    df[a[i]] = LabelEncoder().fit_transform(df[a[i]])"
   ]
  },
  {
   "cell_type": "code",
   "execution_count": 24,
   "metadata": {},
   "outputs": [
    {
     "name": "stdout",
     "output_type": "stream",
     "text": [
      "0         Drowsiness,  dizziness ,  dry mouth /nose/thro...\n",
      "6         Nausea ,  vomiting ,  headache ,  bloating ,  ...\n",
      "9         Temporary burning, stinging, dryness in the no...\n",
      "13        Nausea ,  vomiting ,  headache ,  bloating ,  ...\n",
      "30        Constipation ,  diarrhea , or  upset stomach  ...\n",
      "                                ...                        \n",
      "361078    Drowsiness,  dizziness ,  lightheadedness ,  d...\n",
      "361080    Nausea , loss of appetite,  diarrhea ,  vomiti...\n",
      "361289    Blurred vision ,  nausea ,  vomiting , abdomin...\n",
      "361335    Drowsiness,  dizziness ,  nausea ,  constipati...\n",
      "361387    Drowsiness,  dizziness ,  dry mouth ,  blurred...\n",
      "Name: Sides, Length: 1616, dtype: object\n"
     ]
    },
    {
     "name": "stderr",
     "output_type": "stream",
     "text": [
      "/tmp/ipykernel_5990/3963505942.py:4: SettingWithCopyWarning: \n",
      "A value is trying to be set on a copy of a slice from a DataFrame.\n",
      "Try using .loc[row_indexer,col_indexer] = value instead\n",
      "\n",
      "See the caveats in the documentation: https://pandas.pydata.org/pandas-docs/stable/user_guide/indexing.html#returning-a-view-versus-a-copy\n",
      "  df[a[i]] = LabelEncoder().fit_transform(df[a[i]])\n"
     ]
    }
   ],
   "source": [
    "a=['Sides']\n",
    "for i in np.arange(len(a)):\n",
    "    print(df[a[i]].drop_duplicates())\n",
    "    df[a[i]] = LabelEncoder().fit_transform(df[a[i]])"
   ]
  },
  {
   "cell_type": "code",
   "execution_count": 25,
   "metadata": {},
   "outputs": [
    {
     "data": {
      "text/plain": [
       "<AxesSubplot:>"
      ]
     },
     "execution_count": 25,
     "metadata": {},
     "output_type": "execute_result"
    },
    {
     "data": {
      "image/png": "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",
      "text/plain": [
       "<Figure size 1440x576 with 2 Axes>"
      ]
     },
     "metadata": {
      "needs_background": "light"
     },
     "output_type": "display_data"
    }
   ],
   "source": [
    "corrmatrix = df.corr()\n",
    "plt.subplots(figsize=(20,8))\n",
    "sns.heatmap(corrmatrix,vmin=-0.01,vmax=0.6,annot=True,linewidths=0.2,cmap='Blues')"
   ]
  },
  {
   "cell_type": "markdown",
   "metadata": {},
   "source": [
    "### Splitting and Modelling the dataset"
   ]
  },
  {
   "cell_type": "code",
   "execution_count": 26,
   "metadata": {},
   "outputs": [
    {
     "name": "stdout",
     "output_type": "stream",
     "text": [
      "<class 'pandas.core.frame.DataFrame'>\n",
      "Int64Index: 315576 entries, 0 to 362805\n",
      "Data columns (total 9 columns):\n",
      " #   Column         Non-Null Count   Dtype \n",
      "---  ------         --------------   ----- \n",
      " 0   Age            315576 non-null  int64 \n",
      " 1   Condition      315576 non-null  int64 \n",
      " 2   Drug           315576 non-null  object\n",
      " 3   DrugId         315576 non-null  int64 \n",
      " 4   Effectiveness  315576 non-null  int64 \n",
      " 5   Reviews        315576 non-null  object\n",
      " 6   Satisfaction   315576 non-null  int64 \n",
      " 7   Sex            315576 non-null  int64 \n",
      " 8   Sides          315576 non-null  int64 \n",
      "dtypes: int64(7), object(2)\n",
      "memory usage: 24.1+ MB\n"
     ]
    }
   ],
   "source": [
    "df.info()"
   ]
  },
  {
   "cell_type": "code",
   "execution_count": 27,
   "metadata": {},
   "outputs": [],
   "source": [
    "y = df['Sides']\n",
    "x = df.drop(['Sides','Satisfaction','Reviews','Drug'], axis=1)"
   ]
  },
  {
   "cell_type": "code",
   "execution_count": 28,
   "metadata": {},
   "outputs": [],
   "source": [
    "from sklearn.model_selection import train_test_split\n",
    "from sklearn import linear_model\n",
    "\n",
    "x_train,x_test,y_train,y_test=train_test_split(x,y,random_state=42,test_size=0.2)"
   ]
  },
  {
   "cell_type": "code",
   "execution_count": 29,
   "metadata": {},
   "outputs": [],
   "source": [
    "#Decision Tree \n",
    "\n",
    "from sklearn.tree import DecisionTreeClassifier\n",
    "dt_model=DecisionTreeClassifier()\n",
    "dt_model.fit(x_train,y_train)\n",
    "y_pred=dt_model.predict(x_test)\n"
   ]
  },
  {
   "cell_type": "code",
   "execution_count": 30,
   "metadata": {},
   "outputs": [
    {
     "name": "stdout",
     "output_type": "stream",
     "text": [
      "accuracy is:  0.9055\n",
      "Precision is:  0.9055\n",
      "recall score is:  0.9055\n",
      "f1 score is:  0.9055\n"
     ]
    }
   ],
   "source": [
    "from sklearn.metrics import confusion_matrix,accuracy_score,recall_score, precision_score,f1_score\n",
    "print('accuracy is: ',round(accuracy_score(y_test,y_pred),4))\n",
    "print('Precision is: ',round(precision_score(y_test,y_pred,average='micro'),4))\n",
    "print('recall score is: ',round(recall_score(y_test,y_pred,average='micro'),4))\n",
    "print('f1 score is: ',round(f1_score(y_test,y_pred,average='micro'),4))"
   ]
  }
 ],
 "metadata": {
  "interpreter": {
   "hash": "b6d3280aeef58fdf85a01736912936b5efd5a6bd667cce180a6a119db3fdeaed"
  },
  "kernelspec": {
   "display_name": "Python 3.8.8 ('base')",
   "language": "python",
   "name": "python3"
  },
  "language_info": {
   "codemirror_mode": {
    "name": "ipython",
    "version": 3
   },
   "file_extension": ".py",
   "mimetype": "text/x-python",
   "name": "python",
   "nbconvert_exporter": "python",
   "pygments_lexer": "ipython3",
   "version": "3.8.8"
  },
  "orig_nbformat": 4
 },
 "nbformat": 4,
 "nbformat_minor": 2
}
