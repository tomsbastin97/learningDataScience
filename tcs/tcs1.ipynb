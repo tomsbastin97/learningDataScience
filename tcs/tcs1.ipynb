{
 "cells": [
  {
   "cell_type": "markdown",
   "metadata": {},
   "source": [
    "# Model that Classifies the Side Effects of a Drug"
   ]
  },
  {
   "cell_type": "code",
   "execution_count": 1,
   "metadata": {},
   "outputs": [],
   "source": [
    "import pandas as pd\n",
    "import numpy as np\n",
    "import matplotlib.pyplot as plt\n",
    "import seaborn as sns\n",
    "import itertools"
   ]
  },
  {
   "cell_type": "markdown",
   "metadata": {},
   "source": [
    "### Creating and cleaning the dataset"
   ]
  },
  {
   "cell_type": "code",
   "execution_count": 2,
   "metadata": {},
   "outputs": [
    {
     "data": {
      "text/html": [
       "<div>\n",
       "<style scoped>\n",
       "    .dataframe tbody tr th:only-of-type {\n",
       "        vertical-align: middle;\n",
       "    }\n",
       "\n",
       "    .dataframe tbody tr th {\n",
       "        vertical-align: top;\n",
       "    }\n",
       "\n",
       "    .dataframe thead th {\n",
       "        text-align: right;\n",
       "    }\n",
       "</style>\n",
       "<table border=\"1\" class=\"dataframe\">\n",
       "  <thead>\n",
       "    <tr style=\"text-align: right;\">\n",
       "      <th></th>\n",
       "      <th>Age</th>\n",
       "      <th>Condition</th>\n",
       "      <th>Date</th>\n",
       "      <th>Drug</th>\n",
       "      <th>DrugId</th>\n",
       "      <th>EaseofUse</th>\n",
       "      <th>Effectiveness</th>\n",
       "      <th>Reviews</th>\n",
       "      <th>Satisfaction</th>\n",
       "      <th>Sex</th>\n",
       "      <th>Sides</th>\n",
       "      <th>UsefulCount</th>\n",
       "    </tr>\n",
       "  </thead>\n",
       "  <tbody>\n",
       "    <tr>\n",
       "      <th>0</th>\n",
       "      <td>75 or over</td>\n",
       "      <td>Stuffy Nose</td>\n",
       "      <td>9/21/2014</td>\n",
       "      <td>25dph-7.5peh</td>\n",
       "      <td>146724</td>\n",
       "      <td>5</td>\n",
       "      <td>5</td>\n",
       "      <td>I'm a retired physician and of all the meds I ...</td>\n",
       "      <td>5</td>\n",
       "      <td>Male</td>\n",
       "      <td>Drowsiness,  dizziness ,  dry mouth /nose/thro...</td>\n",
       "      <td>0</td>\n",
       "    </tr>\n",
       "    <tr>\n",
       "      <th>1</th>\n",
       "      <td>25-34</td>\n",
       "      <td>Cold Symptoms</td>\n",
       "      <td>1/13/2011</td>\n",
       "      <td>25dph-7.5peh</td>\n",
       "      <td>146724</td>\n",
       "      <td>5</td>\n",
       "      <td>5</td>\n",
       "      <td>cleared me right up even with my throat hurtin...</td>\n",
       "      <td>5</td>\n",
       "      <td>Female</td>\n",
       "      <td>Drowsiness,  dizziness ,  dry mouth /nose/thro...</td>\n",
       "      <td>1</td>\n",
       "    </tr>\n",
       "    <tr>\n",
       "      <th>2</th>\n",
       "      <td>65-74</td>\n",
       "      <td>Other</td>\n",
       "      <td>7/16/2012</td>\n",
       "      <td>warfarin (bulk) 100 % powder</td>\n",
       "      <td>144731</td>\n",
       "      <td>2</td>\n",
       "      <td>3</td>\n",
       "      <td>why did my PTINR go from a normal of 2.5 to ov...</td>\n",
       "      <td>3</td>\n",
       "      <td>Female</td>\n",
       "      <td></td>\n",
       "      <td>0</td>\n",
       "    </tr>\n",
       "    <tr>\n",
       "      <th>3</th>\n",
       "      <td>75 or over</td>\n",
       "      <td>Other</td>\n",
       "      <td>9/23/2010</td>\n",
       "      <td>warfarin (bulk) 100 % powder</td>\n",
       "      <td>144731</td>\n",
       "      <td>2</td>\n",
       "      <td>2</td>\n",
       "      <td>FALLING AND DON'T REALISE IT</td>\n",
       "      <td>1</td>\n",
       "      <td>Female</td>\n",
       "      <td></td>\n",
       "      <td>0</td>\n",
       "    </tr>\n",
       "    <tr>\n",
       "      <th>4</th>\n",
       "      <td>35-44</td>\n",
       "      <td>Other</td>\n",
       "      <td>1/6/2009</td>\n",
       "      <td>warfarin (bulk) 100 % powder</td>\n",
       "      <td>144731</td>\n",
       "      <td>1</td>\n",
       "      <td>1</td>\n",
       "      <td>My grandfather was prescribed this medication ...</td>\n",
       "      <td>1</td>\n",
       "      <td>Male</td>\n",
       "      <td></td>\n",
       "      <td>1</td>\n",
       "    </tr>\n",
       "    <tr>\n",
       "      <th>...</th>\n",
       "      <td>...</td>\n",
       "      <td>...</td>\n",
       "      <td>...</td>\n",
       "      <td>...</td>\n",
       "      <td>...</td>\n",
       "      <td>...</td>\n",
       "      <td>...</td>\n",
       "      <td>...</td>\n",
       "      <td>...</td>\n",
       "      <td>...</td>\n",
       "      <td>...</td>\n",
       "      <td>...</td>\n",
       "    </tr>\n",
       "    <tr>\n",
       "      <th>362801</th>\n",
       "      <td>55-64</td>\n",
       "      <td>Stop Smoking</td>\n",
       "      <td>11/14/2008</td>\n",
       "      <td>chantix</td>\n",
       "      <td>144470</td>\n",
       "      <td>5</td>\n",
       "      <td>5</td>\n",
       "      <td>I took the whole 12 weeks.I could have stopped...</td>\n",
       "      <td>5</td>\n",
       "      <td>Female</td>\n",
       "      <td>Nausea ,  headache ,  vomiting , drowsiness, g...</td>\n",
       "      <td>2</td>\n",
       "    </tr>\n",
       "    <tr>\n",
       "      <th>362802</th>\n",
       "      <td></td>\n",
       "      <td>Other</td>\n",
       "      <td>11/14/2008</td>\n",
       "      <td>chantix</td>\n",
       "      <td>144470</td>\n",
       "      <td>2</td>\n",
       "      <td>3</td>\n",
       "      <td>My dad strated taking Chantix about 1 month ag...</td>\n",
       "      <td>1</td>\n",
       "      <td></td>\n",
       "      <td>Nausea ,  headache ,  vomiting , drowsiness, g...</td>\n",
       "      <td>16</td>\n",
       "    </tr>\n",
       "    <tr>\n",
       "      <th>362803</th>\n",
       "      <td>25-34</td>\n",
       "      <td>Stop Smoking</td>\n",
       "      <td>11/13/2008</td>\n",
       "      <td>chantix</td>\n",
       "      <td>144470</td>\n",
       "      <td>2</td>\n",
       "      <td>4</td>\n",
       "      <td>As long as I was on chantix, I didn't smoke.  ...</td>\n",
       "      <td>2</td>\n",
       "      <td>Female</td>\n",
       "      <td>Nausea ,  headache ,  vomiting , drowsiness, g...</td>\n",
       "      <td>3</td>\n",
       "    </tr>\n",
       "    <tr>\n",
       "      <th>362804</th>\n",
       "      <td>55-64</td>\n",
       "      <td>Stop Smoking</td>\n",
       "      <td>11/13/2008</td>\n",
       "      <td>chantix</td>\n",
       "      <td>144470</td>\n",
       "      <td>5</td>\n",
       "      <td>5</td>\n",
       "      <td>Started this medication Oct 5th 2008. Haven't ...</td>\n",
       "      <td>5</td>\n",
       "      <td>Male</td>\n",
       "      <td>Nausea ,  headache ,  vomiting , drowsiness, g...</td>\n",
       "      <td>1</td>\n",
       "    </tr>\n",
       "    <tr>\n",
       "      <th>362805</th>\n",
       "      <td>45-54</td>\n",
       "      <td>Stop Smoking</td>\n",
       "      <td>11/12/2008</td>\n",
       "      <td>chantix</td>\n",
       "      <td>144470</td>\n",
       "      <td>4</td>\n",
       "      <td>5</td>\n",
       "      <td>One year ago, I tried Chantix and had to stop ...</td>\n",
       "      <td>5</td>\n",
       "      <td>Female</td>\n",
       "      <td>Nausea ,  headache ,  vomiting , drowsiness, g...</td>\n",
       "      <td>3</td>\n",
       "    </tr>\n",
       "  </tbody>\n",
       "</table>\n",
       "<p>362806 rows × 12 columns</p>\n",
       "</div>"
      ],
      "text/plain": [
       "               Age      Condition        Date                          Drug  \\\n",
       "0       75 or over    Stuffy Nose   9/21/2014                  25dph-7.5peh   \n",
       "1            25-34  Cold Symptoms   1/13/2011                  25dph-7.5peh   \n",
       "2            65-74          Other   7/16/2012  warfarin (bulk) 100 % powder   \n",
       "3       75 or over          Other   9/23/2010  warfarin (bulk) 100 % powder   \n",
       "4            35-44          Other    1/6/2009  warfarin (bulk) 100 % powder   \n",
       "...            ...            ...         ...                           ...   \n",
       "362801       55-64   Stop Smoking  11/14/2008                       chantix   \n",
       "362802                      Other  11/14/2008                       chantix   \n",
       "362803       25-34   Stop Smoking  11/13/2008                       chantix   \n",
       "362804       55-64   Stop Smoking  11/13/2008                       chantix   \n",
       "362805       45-54   Stop Smoking  11/12/2008                       chantix   \n",
       "\n",
       "        DrugId  EaseofUse  Effectiveness  \\\n",
       "0       146724          5              5   \n",
       "1       146724          5              5   \n",
       "2       144731          2              3   \n",
       "3       144731          2              2   \n",
       "4       144731          1              1   \n",
       "...        ...        ...            ...   \n",
       "362801  144470          5              5   \n",
       "362802  144470          2              3   \n",
       "362803  144470          2              4   \n",
       "362804  144470          5              5   \n",
       "362805  144470          4              5   \n",
       "\n",
       "                                                  Reviews  Satisfaction  \\\n",
       "0       I'm a retired physician and of all the meds I ...             5   \n",
       "1       cleared me right up even with my throat hurtin...             5   \n",
       "2       why did my PTINR go from a normal of 2.5 to ov...             3   \n",
       "3                            FALLING AND DON'T REALISE IT             1   \n",
       "4       My grandfather was prescribed this medication ...             1   \n",
       "...                                                   ...           ...   \n",
       "362801  I took the whole 12 weeks.I could have stopped...             5   \n",
       "362802  My dad strated taking Chantix about 1 month ag...             1   \n",
       "362803  As long as I was on chantix, I didn't smoke.  ...             2   \n",
       "362804  Started this medication Oct 5th 2008. Haven't ...             5   \n",
       "362805  One year ago, I tried Chantix and had to stop ...             5   \n",
       "\n",
       "           Sex                                              Sides  UsefulCount  \n",
       "0         Male  Drowsiness,  dizziness ,  dry mouth /nose/thro...            0  \n",
       "1       Female  Drowsiness,  dizziness ,  dry mouth /nose/thro...            1  \n",
       "2       Female                                                               0  \n",
       "3       Female                                                               0  \n",
       "4         Male                                                               1  \n",
       "...        ...                                                ...          ...  \n",
       "362801  Female  Nausea ,  headache ,  vomiting , drowsiness, g...            2  \n",
       "362802          Nausea ,  headache ,  vomiting , drowsiness, g...           16  \n",
       "362803  Female  Nausea ,  headache ,  vomiting , drowsiness, g...            3  \n",
       "362804    Male  Nausea ,  headache ,  vomiting , drowsiness, g...            1  \n",
       "362805  Female  Nausea ,  headache ,  vomiting , drowsiness, g...            3  \n",
       "\n",
       "[362806 rows x 12 columns]"
      ]
     },
     "execution_count": 2,
     "metadata": {},
     "output_type": "execute_result"
    }
   ],
   "source": [
    "df = pd.read_csv('webmd.csv')\n",
    "df"
   ]
  },
  {
   "cell_type": "code",
   "execution_count": 3,
   "metadata": {},
   "outputs": [
    {
     "data": {
      "text/plain": [
       "Age               0\n",
       "Condition         0\n",
       "Date              0\n",
       "Drug              0\n",
       "DrugId            0\n",
       "EaseofUse         0\n",
       "Effectiveness     0\n",
       "Reviews          37\n",
       "Satisfaction      0\n",
       "Sex               0\n",
       "Sides             0\n",
       "UsefulCount       0\n",
       "dtype: int64"
      ]
     },
     "execution_count": 3,
     "metadata": {},
     "output_type": "execute_result"
    }
   ],
   "source": [
    "df.isna().sum()"
   ]
  },
  {
   "cell_type": "code",
   "execution_count": 4,
   "metadata": {},
   "outputs": [],
   "source": [
    "df.drop(['Date','Satisfaction','UsefulCount','EaseofUse', 'Reviews'], axis=1, inplace = True)"
   ]
  },
  {
   "cell_type": "markdown",
   "metadata": {},
   "source": [
    "Some columns are dropped based on their usability in the project scenario. Columns with values having similarity with other columns are also removed to avoid repetition."
   ]
  },
  {
   "cell_type": "code",
   "execution_count": 5,
   "metadata": {},
   "outputs": [
    {
     "data": {
      "text/plain": [
       "Female    238226\n",
       "Male       98043\n",
       "           26537\n",
       "Name: Sex, dtype: int64"
      ]
     },
     "execution_count": 5,
     "metadata": {},
     "output_type": "execute_result"
    }
   ],
   "source": [
    "df['Sex'].value_counts()"
   ]
  },
  {
   "cell_type": "code",
   "execution_count": 6,
   "metadata": {},
   "outputs": [
    {
     "data": {
      "text/plain": [
       "45-54         80043\n",
       "55-64         75136\n",
       "35-44         55011\n",
       "25-34         49718\n",
       "65-74         41216\n",
       "19-24         24230\n",
       "75 or over    15226\n",
       "              12202\n",
       "13-18          7045\n",
       "7-12           1644\n",
       "3-6             838\n",
       "0-2             497\n",
       "Name: Age, dtype: int64"
      ]
     },
     "execution_count": 6,
     "metadata": {},
     "output_type": "execute_result"
    }
   ],
   "source": [
    "df['Age'].value_counts()"
   ]
  },
  {
   "cell_type": "code",
   "execution_count": 7,
   "metadata": {},
   "outputs": [],
   "source": [
    "for col in df.columns:\n",
    "    if df[col].dtype.kind == \"O\":\n",
    "        df[col] = df[col].str.strip()"
   ]
  },
  {
   "cell_type": "code",
   "execution_count": 8,
   "metadata": {},
   "outputs": [],
   "source": [
    "df['Sex'].replace('', np.nan, inplace=True)\n",
    "df['Age'].replace('', np.nan, inplace=True)\n",
    "df['Sides'].replace('', np.nan, inplace=True)\n",
    "df['Condition'].replace('', np.nan, inplace=True)"
   ]
  },
  {
   "cell_type": "markdown",
   "metadata": {},
   "source": [
    "As seen above some columns have missing data or empty spaces which are considered empty characters by the program but not helpful in analysis and may cause deviations in the final result. Such data are converted to null type and removed from the dataset to get a better analysis of data."
   ]
  },
  {
   "cell_type": "code",
   "execution_count": 9,
   "metadata": {},
   "outputs": [],
   "source": [
    "df = df.dropna()"
   ]
  },
  {
   "cell_type": "code",
   "execution_count": 10,
   "metadata": {},
   "outputs": [
    {
     "name": "stdout",
     "output_type": "stream",
     "text": [
      "<class 'pandas.core.frame.DataFrame'>\n",
      "Int64Index: 315605 entries, 0 to 362805\n",
      "Data columns (total 7 columns):\n",
      " #   Column         Non-Null Count   Dtype \n",
      "---  ------         --------------   ----- \n",
      " 0   Age            315605 non-null  object\n",
      " 1   Condition      315605 non-null  object\n",
      " 2   Drug           315605 non-null  object\n",
      " 3   DrugId         315605 non-null  int64 \n",
      " 4   Effectiveness  315605 non-null  int64 \n",
      " 5   Sex            315605 non-null  object\n",
      " 6   Sides          315605 non-null  object\n",
      "dtypes: int64(2), object(5)\n",
      "memory usage: 19.3+ MB\n"
     ]
    }
   ],
   "source": [
    "df.info()"
   ]
  },
  {
   "cell_type": "code",
   "execution_count": 11,
   "metadata": {},
   "outputs": [
    {
     "data": {
      "text/plain": [
       "Age                11\n",
       "Condition        1640\n",
       "Drug             5278\n",
       "DrugId           4771\n",
       "Effectiveness       6\n",
       "Sex                 2\n",
       "Sides            1616\n",
       "dtype: int64"
      ]
     },
     "execution_count": 11,
     "metadata": {},
     "output_type": "execute_result"
    }
   ],
   "source": [
    "df.nunique()"
   ]
  },
  {
   "cell_type": "code",
   "execution_count": 12,
   "metadata": {},
   "outputs": [
    {
     "name": "stdout",
     "output_type": "stream",
     "text": [
      "    167493: ['lynparza tablet', 'lynparza']\n",
      "      7286: ['loteprednol etabonate drops, gel', 'loteprednol etabonate ointment']\n",
      "      7319: ['lotemax ointment', 'lotemax drops, gel']\n",
      "    164437: ['lorcaserin tablet', 'lorcaserin tablet, extended release 24 hr']\n",
      "      8892: ['lorazepam', 'lorazepam concentrate']\n",
      "     76548: ['loratadine-d', 'loratadine d']\n",
      "        73: ['loratadine tablet,disintegrating', 'loratadine']\n",
      "      8555: ['loprox suspension, topical', 'loprox cream']\n",
      "      4789: ['loperamide', 'loperamide liquid']\n",
      "      5887: ['lithium carbonate er', 'lithium carbonate']\n"
     ]
    }
   ],
   "source": [
    "drugs = {}\n",
    "for drugid, drug in df[[\"DrugId\", \"Drug\"]].itertuples(index=False):\n",
    "    drugs.setdefault(drugid, set()).add(drug)\n",
    "drugs = {k:list(v) for k,v in drugs.items()}\n",
    "\n",
    "drugs_with_more_names = {k:list(v) for k,v in drugs.items() if len(v) > 1}\n",
    "for k,v in dict(itertools.islice(drugs_with_more_names.items(), 10)).items():\n",
    "    print(f\"{k:10}: {list(v)[:2]}\")"
   ]
  },
  {
   "cell_type": "markdown",
   "metadata": {},
   "source": [
    "Drug column has a corresponding encoded DrugID column but it is noticed that different drug names have the same DrugID. Upon closer inspection it is found that Drug names with same DrugID are simply different variations of the same drug like cream/tablet/liquid of the same drug."
   ]
  },
  {
   "cell_type": "markdown",
   "metadata": {},
   "source": [
    "### Encoding"
   ]
  },
  {
   "cell_type": "code",
   "execution_count": 13,
   "metadata": {},
   "outputs": [
    {
     "name": "stdout",
     "output_type": "stream",
     "text": [
      "0                              Stuffy Nose\n",
      "1                            Cold Symptoms\n",
      "6                            Birth Control\n",
      "7            Disease of Ovaries with Cysts\n",
      "8                                     Acne\n",
      "                        ...               \n",
      "360515            Medullary Thyroid Cancer\n",
      "360680                Inadequate Vitamin C\n",
      "361078       Hiccups that are Hard to Cure\n",
      "361112    Combative and Explosive Behavior\n",
      "361545                      Lead Poisoning\n",
      "Name: Condition, Length: 1640, dtype: object\n"
     ]
    },
   
   ],
   "source": [
    "from sklearn.preprocessing import LabelEncoder\n",
    "a=['Condition']\n",
    "for i in np.arange(len(a)):\n",
    "    print(df[a[i]].drop_duplicates())\n",
    "    df[a[i]] = LabelEncoder().fit_transform(df[a[i]])"
   ]
  },
  {
   "cell_type": "code",
   "execution_count": 14,
   "metadata": {},
   "outputs": [
    {
     "data": {
      "text/html": [
       "<div>\n",
       "<style scoped>\n",
       "    .dataframe tbody tr th:only-of-type {\n",
       "        vertical-align: middle;\n",
       "    }\n",
       "\n",
       "    .dataframe tbody tr th {\n",
       "        vertical-align: top;\n",
       "    }\n",
       "\n",
       "    .dataframe thead th {\n",
       "        text-align: right;\n",
       "    }\n",
       "</style>\n",
       "<table border=\"1\" class=\"dataframe\">\n",
       "  <thead>\n",
       "    <tr style=\"text-align: right;\">\n",
       "      <th>Effectiveness</th>\n",
       "      <th>1</th>\n",
       "      <th>2</th>\n",
       "      <th>3</th>\n",
       "      <th>4</th>\n",
       "      <th>5</th>\n",
       "      <th>6</th>\n",
       "    </tr>\n",
       "    <tr>\n",
       "      <th>Age</th>\n",
       "      <th></th>\n",
       "      <th></th>\n",
       "      <th></th>\n",
       "      <th></th>\n",
       "      <th></th>\n",
       "      <th></th>\n",
       "    </tr>\n",
       "  </thead>\n",
       "  <tbody>\n",
       "    <tr>\n",
       "      <th>0-2</th>\n",
       "      <td>95</td>\n",
       "      <td>38</td>\n",
       "      <td>85</td>\n",
       "      <td>86</td>\n",
       "      <td>126</td>\n",
       "      <td>0</td>\n",
       "    </tr>\n",
       "    <tr>\n",
       "      <th>13-18</th>\n",
       "      <td>1074</td>\n",
       "      <td>628</td>\n",
       "      <td>1039</td>\n",
       "      <td>1543</td>\n",
       "      <td>2246</td>\n",
       "      <td>0</td>\n",
       "    </tr>\n",
       "    <tr>\n",
       "      <th>19-24</th>\n",
       "      <td>3151</td>\n",
       "      <td>1641</td>\n",
       "      <td>3290</td>\n",
       "      <td>5182</td>\n",
       "      <td>9356</td>\n",
       "      <td>0</td>\n",
       "    </tr>\n",
       "    <tr>\n",
       "      <th>25-34</th>\n",
       "      <td>6849</td>\n",
       "      <td>3442</td>\n",
       "      <td>7296</td>\n",
       "      <td>10767</td>\n",
       "      <td>18291</td>\n",
       "      <td>0</td>\n",
       "    </tr>\n",
       "    <tr>\n",
       "      <th>3-6</th>\n",
       "      <td>166</td>\n",
       "      <td>85</td>\n",
       "      <td>119</td>\n",
       "      <td>148</td>\n",
       "      <td>215</td>\n",
       "      <td>0</td>\n",
       "    </tr>\n",
       "    <tr>\n",
       "      <th>35-44</th>\n",
       "      <td>7749</td>\n",
       "      <td>4002</td>\n",
       "      <td>8353</td>\n",
       "      <td>11652</td>\n",
       "      <td>19109</td>\n",
       "      <td>2</td>\n",
       "    </tr>\n",
       "    <tr>\n",
       "      <th>45-54</th>\n",
       "      <td>11311</td>\n",
       "      <td>6144</td>\n",
       "      <td>11988</td>\n",
       "      <td>16948</td>\n",
       "      <td>25982</td>\n",
       "      <td>0</td>\n",
       "    </tr>\n",
       "    <tr>\n",
       "      <th>55-64</th>\n",
       "      <td>10700</td>\n",
       "      <td>5824</td>\n",
       "      <td>11278</td>\n",
       "      <td>14987</td>\n",
       "      <td>22746</td>\n",
       "      <td>0</td>\n",
       "    </tr>\n",
       "    <tr>\n",
       "      <th>65-74</th>\n",
       "      <td>5880</td>\n",
       "      <td>3431</td>\n",
       "      <td>6291</td>\n",
       "      <td>7926</td>\n",
       "      <td>11611</td>\n",
       "      <td>0</td>\n",
       "    </tr>\n",
       "    <tr>\n",
       "      <th>7-12</th>\n",
       "      <td>308</td>\n",
       "      <td>151</td>\n",
       "      <td>300</td>\n",
       "      <td>325</td>\n",
       "      <td>436</td>\n",
       "      <td>0</td>\n",
       "    </tr>\n",
       "    <tr>\n",
       "      <th>75 or over</th>\n",
       "      <td>2465</td>\n",
       "      <td>1337</td>\n",
       "      <td>2718</td>\n",
       "      <td>3066</td>\n",
       "      <td>3627</td>\n",
       "      <td>0</td>\n",
       "    </tr>\n",
       "  </tbody>\n",
       "</table>\n",
       "</div>"
      ],
      "text/plain": [
       "Effectiveness      1     2      3      4      5  6\n",
       "Age                                               \n",
       "0-2               95    38     85     86    126  0\n",
       "13-18           1074   628   1039   1543   2246  0\n",
       "19-24           3151  1641   3290   5182   9356  0\n",
       "25-34           6849  3442   7296  10767  18291  0\n",
       "3-6              166    85    119    148    215  0\n",
       "35-44           7749  4002   8353  11652  19109  2\n",
       "45-54          11311  6144  11988  16948  25982  0\n",
       "55-64          10700  5824  11278  14987  22746  0\n",
       "65-74           5880  3431   6291   7926  11611  0\n",
       "7-12             308   151    300    325    436  0\n",
       "75 or over      2465  1337   2718   3066   3627  0"
      ]
     },
     "execution_count": 14,
     "metadata": {},
     "output_type": "execute_result"
    }
   ],
   "source": [
    "pd.crosstab(df['Age'],df['Effectiveness'])"
   ]
  }
 ],
 "metadata": {
  "interpreter": {
   "hash": "b6d3280aeef58fdf85a01736912936b5efd5a6bd667cce180a6a119db3fdeaed"
  },
  "kernelspec": {
   "display_name": "Python 3.8.8 ('base')",
   "language": "python",
   "name": "python3"
  },
  "language_info": {
   "codemirror_mode": {
    "name": "ipython",
    "version": 3
   },
   "file_extension": ".py",
   "mimetype": "text/x-python",
   "name": "python",
   "nbconvert_exporter": "python",
   "pygments_lexer": "ipython3",
   "version": "3.8.8"
  },
  "orig_nbformat": 4
 },
 "nbformat": 4,
 "nbformat_minor": 2
}
